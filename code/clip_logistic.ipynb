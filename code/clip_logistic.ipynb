{
 "cells": [
  {
   "cell_type": "code",
   "execution_count": 2,
   "metadata": {},
   "outputs": [],
   "source": [
    "import clip_feature_extractor\n",
    "from sklearn.linear_model import LogisticRegression\n",
    "from sklearn.model_selection import GridSearchCV\n",
    "from sklearn.model_selection import RandomizedSearchCV\n",
    "from sklearn.pipeline import Pipeline\n",
    "from sklearn.preprocessing import StandardScaler\n",
    "from scipy.stats import loguniform\n",
    "import numpy as np\n",
    "\n",
    "%load_ext autoreload\n",
    "%autoreload 2"
   ]
  },
  {
   "cell_type": "code",
   "execution_count": null,
   "metadata": {},
   "outputs": [
    {
     "name": "stdout",
     "output_type": "stream",
     "text": [
      "Files already downloaded and verified\n",
      "Files already downloaded and verified\n",
      "Extracting features from CIFAR100 dataset\n",
      "Loaded previously extracted features from disk.\n"
     ]
    }
   ],
   "source": [
    "X_train_CIFAR100, y_train_CIFAR100, X_test_CIFAR100, y_test_CIFAR100 = clip_feature_extractor.get_CIFAR100_features()"
   ]
  },
  {
   "cell_type": "code",
   "execution_count": null,
   "metadata": {},
   "outputs": [
    {
     "name": "stdout",
     "output_type": "stream",
     "text": [
      "Accuracy = 80.020\n"
     ]
    }
   ],
   "source": [
    "# C = 0.316 provided by OpenAI\n",
    "\n",
    "log_reg_CIFAR100 = LogisticRegression(random_state=0, max_iter=1000, C=0.316, n_jobs=-1)\n",
    "log_reg_CIFAR100.fit(X_train_CIFAR100, y_train_CIFAR100)\n",
    "predictions_CIFAR100 = log_reg_CIFAR100.predict(X_test_CIFAR100)\n",
    "accuracy_CIFAR100 = np.mean((y_test_CIFAR100 == predictions_CIFAR100).astype(float)) * 100.\n",
    "print(f\"Accuracy = {accuracy_CIFAR100:.3f}\")\n"
   ]
  },
  {
   "cell_type": "code",
   "execution_count": 3,
   "metadata": {},
   "outputs": [
    {
     "name": "stdout",
     "output_type": "stream",
     "text": [
      "Files already downloaded and verified\n",
      "Files already downloaded and verified\n",
      "Loaded features from disk.\n"
     ]
    }
   ],
   "source": [
    "X_train_CIFAR10, y_train_CIFAR10, X_test_CIFAR10, y_test_CIFAR10 = clip_feature_extractor.get_CIFAR10_features()"
   ]
  },
  {
   "cell_type": "code",
   "execution_count": 4,
   "metadata": {},
   "outputs": [
    {
     "name": "stdout",
     "output_type": "stream",
     "text": [
      "Fitting 2 folds for each of 200 candidates, totalling 400 fits\n",
      "[CV] END logreg__C=0.0006306658668123951, logreg__l1_ratio=0.7777777777777777, logreg__penalty=elasticnet, logreg__solver=saga; total time=  15.4s\n",
      "[CV] END logreg__C=0.0006306658668123951, logreg__l1_ratio=0.7777777777777777, logreg__penalty=elasticnet, logreg__solver=saga; total time=  17.3s\n",
      "[CV] END logreg__C=0.00014610865886287216, logreg__l1_ratio=0.1111111111111111, logreg__penalty=elasticnet, logreg__solver=saga; total time=  20.1s\n",
      "[CV] END ...........logreg__penalty=none, logreg__solver=sag; total time=   0.6s\n",
      "[CV] END ...........logreg__penalty=none, logreg__solver=sag; total time=   0.5s\n",
      "[CV] END logreg__C=0.00014610865886287216, logreg__l1_ratio=0.1111111111111111, logreg__penalty=elasticnet, logreg__solver=saga; total time=  20.3s\n",
      "[CV] END logreg__C=0.00010144487859320233, logreg__penalty=l2, logreg__solver=saga; total time=   7.4s\n",
      "[CV] END logreg__C=0.00010144487859320233, logreg__penalty=l2, logreg__solver=saga; total time=   7.6s\n"
     ]
    },
    {
     "name": "stderr",
     "output_type": "stream",
     "text": [
      "/home/tonyxdsu/.local/lib/python3.12/site-packages/sklearn/linear_model/_sag.py:349: ConvergenceWarning: The max_iter was reached which means the coef_ did not converge\n",
      "  warnings.warn(\n"
     ]
    },
    {
     "name": "stdout",
     "output_type": "stream",
     "text": [
      "[CV] END logreg__C=235.69148616733443, logreg__l1_ratio=0.7777777777777777, logreg__penalty=elasticnet, logreg__solver=saga; total time=26.0min\n",
      "[CV] END logreg__C=0.00011390176182186649, logreg__penalty=l2, logreg__solver=lbfgs; total time=   1.9s\n",
      "[CV] END logreg__C=0.00011390176182186649, logreg__penalty=l2, logreg__solver=lbfgs; total time=   1.9s\n"
     ]
    },
    {
     "name": "stderr",
     "output_type": "stream",
     "text": [
      "/home/tonyxdsu/.local/lib/python3.12/site-packages/sklearn/linear_model/_sag.py:349: ConvergenceWarning: The max_iter was reached which means the coef_ did not converge\n",
      "  warnings.warn(\n"
     ]
    },
    {
     "name": "stdout",
     "output_type": "stream",
     "text": [
      "[CV] END logreg__C=235.69148616733443, logreg__l1_ratio=0.7777777777777777, logreg__penalty=elasticnet, logreg__solver=saga; total time=28.1min\n",
      "[CV] END logreg__C=1.5783280762132288, logreg__penalty=l1, logreg__solver=liblinear; total time= 2.2min\n",
      "[CV] END logreg__C=0.0002362246997776369, logreg__penalty=l2, logreg__solver=saga; total time=   9.8s\n"
     ]
    },
    {
     "name": "stderr",
     "output_type": "stream",
     "text": [
      "/home/tonyxdsu/.local/lib/python3.12/site-packages/sklearn/linear_model/_sag.py:349: ConvergenceWarning: The max_iter was reached which means the coef_ did not converge\n",
      "  warnings.warn(\n"
     ]
    },
    {
     "name": "stdout",
     "output_type": "stream",
     "text": [
      "[CV] END logreg__C=6.4405075539937195, logreg__penalty=l1, logreg__solver=saga; total time=28.5min\n",
      "[CV] END ..........logreg__penalty=none, logreg__solver=saga; total time=   0.5s\n",
      "[CV] END ..........logreg__penalty=none, logreg__solver=saga; total time=   0.5s\n",
      "[CV] END logreg__C=0.0002362246997776369, logreg__penalty=l2, logreg__solver=saga; total time=   7.7s\n"
     ]
    },
    {
     "name": "stderr",
     "output_type": "stream",
     "text": [
      "/home/tonyxdsu/.local/lib/python3.12/site-packages/sklearn/linear_model/_sag.py:349: ConvergenceWarning: The max_iter was reached which means the coef_ did not converge\n",
      "  warnings.warn(\n"
     ]
    },
    {
     "name": "stdout",
     "output_type": "stream",
     "text": [
      "[CV] END logreg__C=5.953896264004558, logreg__penalty=l1, logreg__solver=saga; total time=28.7min\n",
      "[CV] END logreg__C=0.0005307029188745615, logreg__penalty=l2, logreg__solver=liblinear; total time=  26.3s\n",
      "[CV] END logreg__C=0.0005307029188745615, logreg__penalty=l2, logreg__solver=liblinear; total time=  26.6s\n",
      "[CV] END .........logreg__penalty=none, logreg__solver=lbfgs; total time=   0.5s\n",
      "[CV] END .........logreg__penalty=none, logreg__solver=lbfgs; total time=   0.5s\n"
     ]
    },
    {
     "name": "stderr",
     "output_type": "stream",
     "text": [
      "/home/tonyxdsu/.local/lib/python3.12/site-packages/sklearn/linear_model/_sag.py:349: ConvergenceWarning: The max_iter was reached which means the coef_ did not converge\n",
      "  warnings.warn(\n"
     ]
    },
    {
     "name": "stdout",
     "output_type": "stream",
     "text": [
      "[CV] END logreg__C=5.953896264004558, logreg__penalty=l1, logreg__solver=saga; total time=29.5min\n",
      "[CV] END logreg__C=1.5783280762132288, logreg__penalty=l1, logreg__solver=liblinear; total time= 2.3min\n"
     ]
    },
    {
     "name": "stderr",
     "output_type": "stream",
     "text": [
      "/home/tonyxdsu/.local/lib/python3.12/site-packages/sklearn/linear_model/_sag.py:349: ConvergenceWarning: The max_iter was reached which means the coef_ did not converge\n",
      "  warnings.warn(\n"
     ]
    },
    {
     "name": "stdout",
     "output_type": "stream",
     "text": [
      "[CV] END logreg__C=6.4405075539937195, logreg__penalty=l1, logreg__solver=saga; total time=30.5min\n"
     ]
    },
    {
     "name": "stderr",
     "output_type": "stream",
     "text": [
      "/home/tonyxdsu/.local/lib/python3.12/site-packages/sklearn/linear_model/_sag.py:349: ConvergenceWarning: The max_iter was reached which means the coef_ did not converge\n",
      "  warnings.warn(\n"
     ]
    },
    {
     "name": "stdout",
     "output_type": "stream",
     "text": [
      "[CV] END logreg__C=8.706669857047757, logreg__penalty=l1, logreg__solver=saga; total time=30.3min\n",
      "[CV] END .........logreg__penalty=none, logreg__solver=lbfgs; total time=   0.5s\n",
      "[CV] END .........logreg__penalty=none, logreg__solver=lbfgs; total time=   0.4s\n",
      "[CV] END ...........logreg__penalty=none, logreg__solver=sag; total time=   0.5s\n",
      "[CV] END ...........logreg__penalty=none, logreg__solver=sag; total time=   0.5s\n"
     ]
    },
    {
     "name": "stderr",
     "output_type": "stream",
     "text": [
      "/home/tonyxdsu/.local/lib/python3.12/site-packages/sklearn/linear_model/_sag.py:349: ConvergenceWarning: The max_iter was reached which means the coef_ did not converge\n",
      "  warnings.warn(\n"
     ]
    },
    {
     "name": "stdout",
     "output_type": "stream",
     "text": [
      "[CV] END logreg__C=8.706669857047757, logreg__penalty=l1, logreg__solver=saga; total time=30.4min\n",
      "[CV] END logreg__C=0.12115239957904832, logreg__penalty=l2, logreg__solver=liblinear; total time= 1.0min\n",
      "[CV] END logreg__C=0.12115239957904832, logreg__penalty=l2, logreg__solver=liblinear; total time=  59.6s\n",
      "[CV] END logreg__C=0.0070331617412763316, logreg__penalty=l1, logreg__solver=saga; total time=  31.1s\n",
      "[CV] END logreg__C=0.0070331617412763316, logreg__penalty=l1, logreg__solver=saga; total time=  29.7s\n",
      "[CV] END logreg__C=0.11473500268396371, logreg__l1_ratio=0.3333333333333333, logreg__penalty=elasticnet, logreg__solver=saga; total time= 9.1min\n",
      "[CV] END logreg__C=0.0024373462416671784, logreg__l1_ratio=0.0, logreg__penalty=elasticnet, logreg__solver=saga; total time=  30.0s\n",
      "[CV] END logreg__C=0.0024373462416671784, logreg__l1_ratio=0.0, logreg__penalty=elasticnet, logreg__solver=saga; total time=  36.5s\n",
      "[CV] END ...........logreg__penalty=none, logreg__solver=sag; total time=   0.5s\n",
      "[CV] END ...........logreg__penalty=none, logreg__solver=sag; total time=   0.5s\n",
      "[CV] END ...........logreg__penalty=none, logreg__solver=sag; total time=   0.4s\n",
      "[CV] END ...........logreg__penalty=none, logreg__solver=sag; total time=   0.5s\n",
      "[CV] END logreg__C=1.4472520367197634, logreg__penalty=l2, logreg__solver=liblinear; total time= 1.7min\n",
      "[CV] END logreg__C=1.4472520367197634, logreg__penalty=l2, logreg__solver=liblinear; total time= 1.6min\n",
      "[CV] END ...........logreg__penalty=none, logreg__solver=sag; total time=   0.4s\n",
      "[CV] END ...........logreg__penalty=none, logreg__solver=sag; total time=   0.5s\n",
      "[CV] END logreg__C=0.11473500268396371, logreg__l1_ratio=0.3333333333333333, logreg__penalty=elasticnet, logreg__solver=saga; total time=13.7min\n"
     ]
    },
    {
     "name": "stderr",
     "output_type": "stream",
     "text": [
      "/home/tonyxdsu/.local/lib/python3.12/site-packages/sklearn/linear_model/_sag.py:349: ConvergenceWarning: The max_iter was reached which means the coef_ did not converge\n",
      "  warnings.warn(\n"
     ]
    },
    {
     "name": "stdout",
     "output_type": "stream",
     "text": [
      "[CV] END logreg__C=0.4017852745189947, logreg__penalty=l1, logreg__solver=saga; total time=21.7min\n",
      "[CV] END ...........logreg__penalty=none, logreg__solver=sag; total time=  -1.5s\n",
      "[CV] END ...........logreg__penalty=none, logreg__solver=sag; total time=   0.4s\n",
      "[CV] END logreg__C=0.4017852745189947, logreg__penalty=l1, logreg__solver=saga; total time=22.5min\n"
     ]
    },
    {
     "name": "stderr",
     "output_type": "stream",
     "text": [
      "/home/tonyxdsu/.local/lib/python3.12/site-packages/sklearn/linear_model/_sag.py:349: ConvergenceWarning: The max_iter was reached which means the coef_ did not converge\n",
      "  warnings.warn(\n"
     ]
    },
    {
     "name": "stdout",
     "output_type": "stream",
     "text": [
      "[CV] END logreg__C=757.7453045410584, logreg__l1_ratio=0.6666666666666666, logreg__penalty=elasticnet, logreg__solver=saga; total time=26.3min\n"
     ]
    },
    {
     "name": "stderr",
     "output_type": "stream",
     "text": [
      "/home/tonyxdsu/.local/lib/python3.12/site-packages/sklearn/linear_model/_sag.py:349: ConvergenceWarning: The max_iter was reached which means the coef_ did not converge\n",
      "  warnings.warn(\n"
     ]
    },
    {
     "name": "stdout",
     "output_type": "stream",
     "text": [
      "[CV] END logreg__C=757.7453045410584, logreg__l1_ratio=0.6666666666666666, logreg__penalty=elasticnet, logreg__solver=saga; total time=26.9min\n"
     ]
    },
    {
     "name": "stderr",
     "output_type": "stream",
     "text": [
      "/home/tonyxdsu/.local/lib/python3.12/site-packages/sklearn/linear_model/_sag.py:349: ConvergenceWarning: The max_iter was reached which means the coef_ did not converge\n",
      "  warnings.warn(\n"
     ]
    },
    {
     "name": "stdout",
     "output_type": "stream",
     "text": [
      "[CV] END logreg__C=29.24880658395848, logreg__l1_ratio=0.7777777777777777, logreg__penalty=elasticnet, logreg__solver=saga; total time=26.1min\n",
      "[CV] END logreg__C=0.003697114486625516, logreg__penalty=l2, logreg__solver=lbfgs; total time=   2.8s\n",
      "[CV] END logreg__C=0.003697114486625516, logreg__penalty=l2, logreg__solver=lbfgs; total time=   0.9s\n"
     ]
    },
    {
     "name": "stderr",
     "output_type": "stream",
     "text": [
      "/home/tonyxdsu/.local/lib/python3.12/site-packages/sklearn/linear_model/_sag.py:349: ConvergenceWarning: The max_iter was reached which means the coef_ did not converge\n",
      "  warnings.warn(\n"
     ]
    },
    {
     "name": "stdout",
     "output_type": "stream",
     "text": [
      "[CV] END logreg__C=29.24880658395848, logreg__l1_ratio=0.7777777777777777, logreg__penalty=elasticnet, logreg__solver=saga; total time=26.6min\n",
      "[CV] END logreg__C=0.04005370050283179, logreg__penalty=l2, logreg__solver=saga; total time= 1.4min\n",
      "[CV] END logreg__C=0.014818090886467109, logreg__penalty=l1, logreg__solver=liblinear; total time=   8.8s\n",
      "[CV] END logreg__C=0.014818090886467109, logreg__penalty=l1, logreg__solver=liblinear; total time=   6.9s\n",
      "[CV] END ...........logreg__penalty=none, logreg__solver=sag; total time=   0.6s\n",
      "[CV] END ...........logreg__penalty=none, logreg__solver=sag; total time=   0.6s\n",
      "[CV] END logreg__C=1440.8501080722583, logreg__penalty=l2, logreg__solver=liblinear; total time= 7.7min\n",
      "[CV] END logreg__C=0.04005370050283179, logreg__penalty=l2, logreg__solver=saga; total time= 2.2min\n",
      "[CV] END logreg__C=0.0013408920002835425, logreg__penalty=l1, logreg__solver=liblinear; total time=   5.8s\n",
      "[CV] END logreg__C=0.017679748286442643, logreg__penalty=l1, logreg__solver=saga; total time= 1.2min\n",
      "[CV] END logreg__C=0.0013408920002835425, logreg__penalty=l1, logreg__solver=liblinear; total time=   6.4s\n",
      "[CV] END logreg__C=0.00039482545946332466, logreg__penalty=l1, logreg__solver=liblinear; total time=   5.1s\n",
      "[CV] END logreg__C=0.00039482545946332466, logreg__penalty=l1, logreg__solver=liblinear; total time=   5.5s\n",
      "[CV] END logreg__C=0.017679748286442643, logreg__penalty=l1, logreg__solver=saga; total time= 1.3min\n",
      "[CV] END ..........logreg__penalty=none, logreg__solver=saga; total time=   0.5s\n",
      "[CV] END ..........logreg__penalty=none, logreg__solver=saga; total time=   0.5s\n",
      "[CV] END logreg__C=0.003897079206274738, logreg__l1_ratio=0.7777777777777777, logreg__penalty=elasticnet, logreg__solver=saga; total time=  27.6s\n",
      "[CV] END logreg__C=0.003897079206274738, logreg__l1_ratio=0.7777777777777777, logreg__penalty=elasticnet, logreg__solver=saga; total time=  23.7s\n",
      "[CV] END logreg__C=1440.8501080722583, logreg__penalty=l2, logreg__solver=liblinear; total time=11.1min\n"
     ]
    },
    {
     "name": "stderr",
     "output_type": "stream",
     "text": [
      "/home/tonyxdsu/.local/lib/python3.12/site-packages/sklearn/linear_model/_sag.py:349: ConvergenceWarning: The max_iter was reached which means the coef_ did not converge\n",
      "  warnings.warn(\n"
     ]
    },
    {
     "name": "stdout",
     "output_type": "stream",
     "text": [
      "[CV] END logreg__C=5710.5379511268075, logreg__penalty=l1, logreg__solver=saga; total time=25.2min\n",
      "[CV] END logreg__C=0.07374385355858322, logreg__penalty=l2, logreg__solver=lbfgs; total time=   3.4s\n",
      "[CV] END logreg__C=0.07374385355858322, logreg__penalty=l2, logreg__solver=lbfgs; total time=   3.5s\n",
      "[CV] END ..........logreg__penalty=none, logreg__solver=saga; total time=   0.4s\n",
      "[CV] END ..........logreg__penalty=none, logreg__solver=saga; total time=   0.4s\n"
     ]
    },
    {
     "name": "stderr",
     "output_type": "stream",
     "text": [
      "/home/tonyxdsu/.local/lib/python3.12/site-packages/sklearn/linear_model/_sag.py:349: ConvergenceWarning: The max_iter was reached which means the coef_ did not converge\n",
      "  warnings.warn(\n"
     ]
    },
    {
     "name": "stdout",
     "output_type": "stream",
     "text": [
      "[CV] END logreg__C=5710.5379511268075, logreg__penalty=l1, logreg__solver=saga; total time=26.9min\n"
     ]
    },
    {
     "name": "stderr",
     "output_type": "stream",
     "text": [
      "/home/tonyxdsu/.local/lib/python3.12/site-packages/sklearn/linear_model/_sag.py:349: ConvergenceWarning: The max_iter was reached which means the coef_ did not converge\n",
      "  warnings.warn(\n"
     ]
    },
    {
     "name": "stdout",
     "output_type": "stream",
     "text": [
      "[CV] END logreg__C=2371.340289933656, logreg__l1_ratio=0.7777777777777777, logreg__penalty=elasticnet, logreg__solver=saga; total time=25.2min\n",
      "[CV] END logreg__C=0.00032245328248123556, logreg__penalty=l1, logreg__solver=liblinear; total time=   3.9s\n",
      "[CV] END logreg__C=0.00032245328248123556, logreg__penalty=l1, logreg__solver=liblinear; total time=   4.0s\n",
      "[CV] END logreg__C=0.03994538177154865, logreg__penalty=l2, logreg__solver=sag; total time=  49.3s\n"
     ]
    },
    {
     "name": "stderr",
     "output_type": "stream",
     "text": [
      "/home/tonyxdsu/.local/lib/python3.12/site-packages/sklearn/linear_model/_sag.py:349: ConvergenceWarning: The max_iter was reached which means the coef_ did not converge\n",
      "  warnings.warn(\n"
     ]
    },
    {
     "name": "stdout",
     "output_type": "stream",
     "text": [
      "[CV] END logreg__C=2371.340289933656, logreg__l1_ratio=0.7777777777777777, logreg__penalty=elasticnet, logreg__solver=saga; total time=26.3min\n",
      "[CV] END ...........logreg__penalty=none, logreg__solver=sag; total time=   0.5s\n",
      "[CV] END ...........logreg__penalty=none, logreg__solver=sag; total time=   0.5s\n",
      "[CV] END logreg__C=0.03994538177154865, logreg__penalty=l2, logreg__solver=sag; total time= 1.2min\n"
     ]
    },
    {
     "name": "stderr",
     "output_type": "stream",
     "text": [
      "/home/tonyxdsu/.local/lib/python3.12/site-packages/sklearn/linear_model/_sag.py:349: ConvergenceWarning: The max_iter was reached which means the coef_ did not converge\n",
      "  warnings.warn(\n"
     ]
    },
    {
     "name": "stdout",
     "output_type": "stream",
     "text": [
      "[CV] END logreg__C=150.64619068942054, logreg__penalty=l1, logreg__solver=saga; total time=25.3min\n"
     ]
    },
    {
     "name": "stderr",
     "output_type": "stream",
     "text": [
      "/home/tonyxdsu/.local/lib/python3.12/site-packages/sklearn/linear_model/_sag.py:349: ConvergenceWarning: The max_iter was reached which means the coef_ did not converge\n",
      "  warnings.warn(\n"
     ]
    },
    {
     "name": "stdout",
     "output_type": "stream",
     "text": [
      "[CV] END logreg__C=209.6062963490913, logreg__l1_ratio=0.4444444444444444, logreg__penalty=elasticnet, logreg__solver=saga; total time=25.2min\n"
     ]
    },
    {
     "name": "stderr",
     "output_type": "stream",
     "text": [
      "/home/tonyxdsu/.local/lib/python3.12/site-packages/sklearn/linear_model/_sag.py:349: ConvergenceWarning: The max_iter was reached which means the coef_ did not converge\n",
      "  warnings.warn(\n"
     ]
    },
    {
     "name": "stdout",
     "output_type": "stream",
     "text": [
      "[CV] END logreg__C=150.64619068942054, logreg__penalty=l1, logreg__solver=saga; total time=26.9min\n"
     ]
    },
    {
     "name": "stderr",
     "output_type": "stream",
     "text": [
      "/home/tonyxdsu/.local/lib/python3.12/site-packages/sklearn/linear_model/_sag.py:349: ConvergenceWarning: The max_iter was reached which means the coef_ did not converge\n",
      "  warnings.warn(\n"
     ]
    },
    {
     "name": "stdout",
     "output_type": "stream",
     "text": [
      "[CV] END logreg__C=209.6062963490913, logreg__l1_ratio=0.4444444444444444, logreg__penalty=elasticnet, logreg__solver=saga; total time=26.8min\n"
     ]
    },
    {
     "name": "stderr",
     "output_type": "stream",
     "text": [
      "/home/tonyxdsu/.local/lib/python3.12/site-packages/sklearn/linear_model/_sag.py:349: ConvergenceWarning: The max_iter was reached which means the coef_ did not converge\n",
      "  warnings.warn(\n"
     ]
    },
    {
     "name": "stdout",
     "output_type": "stream",
     "text": [
      "[CV] END logreg__C=9.691366432023926, logreg__penalty=l1, logreg__solver=saga; total time=28.5min\n",
      "[CV] END logreg__C=0.011182697629026503, logreg__l1_ratio=0.8888888888888888, logreg__penalty=elasticnet, logreg__solver=saga; total time=  55.1s\n",
      "[CV] END logreg__C=0.011182697629026503, logreg__l1_ratio=0.8888888888888888, logreg__penalty=elasticnet, logreg__solver=saga; total time=  53.5s\n"
     ]
    },
    {
     "name": "stderr",
     "output_type": "stream",
     "text": [
      "/home/tonyxdsu/.local/lib/python3.12/site-packages/sklearn/linear_model/_sag.py:349: ConvergenceWarning: The max_iter was reached which means the coef_ did not converge\n",
      "  warnings.warn(\n"
     ]
    },
    {
     "name": "stdout",
     "output_type": "stream",
     "text": [
      "[CV] END logreg__C=9.691366432023926, logreg__penalty=l1, logreg__solver=saga; total time=29.2min\n"
     ]
    },
    {
     "name": "stderr",
     "output_type": "stream",
     "text": [
      "/home/tonyxdsu/.local/lib/python3.12/site-packages/sklearn/linear_model/_sag.py:349: ConvergenceWarning: The max_iter was reached which means the coef_ did not converge\n",
      "  warnings.warn(\n"
     ]
    },
    {
     "name": "stdout",
     "output_type": "stream",
     "text": [
      "[CV] END logreg__C=3.08992121928131, logreg__l1_ratio=0.2222222222222222, logreg__penalty=elasticnet, logreg__solver=saga; total time=25.2min\n",
      "[CV] END .........logreg__penalty=none, logreg__solver=lbfgs; total time=   0.5s\n",
      "[CV] END .........logreg__penalty=none, logreg__solver=lbfgs; total time=   0.5s\n",
      "[CV] END logreg__C=0.00017841587142327403, logreg__l1_ratio=0.6666666666666666, logreg__penalty=elasticnet, logreg__solver=saga; total time=  11.6s\n",
      "[CV] END logreg__C=0.00017841587142327403, logreg__l1_ratio=0.6666666666666666, logreg__penalty=elasticnet, logreg__solver=saga; total time=   7.8s\n"
     ]
    },
    {
     "name": "stderr",
     "output_type": "stream",
     "text": [
      "/home/tonyxdsu/.local/lib/python3.12/site-packages/sklearn/linear_model/_sag.py:349: ConvergenceWarning: The max_iter was reached which means the coef_ did not converge\n",
      "  warnings.warn(\n"
     ]
    },
    {
     "name": "stdout",
     "output_type": "stream",
     "text": [
      "[CV] END logreg__C=3.08992121928131, logreg__l1_ratio=0.2222222222222222, logreg__penalty=elasticnet, logreg__solver=saga; total time=25.2min\n",
      "[CV] END logreg__C=0.03272260339283022, logreg__penalty=l1, logreg__solver=saga; total time= 1.8min\n",
      "[CV] END ...........logreg__penalty=none, logreg__solver=sag; total time=   0.5s\n",
      "[CV] END ...........logreg__penalty=none, logreg__solver=sag; total time=   0.5s\n",
      "[CV] END logreg__C=0.009870470007366716, logreg__penalty=l1, logreg__solver=liblinear; total time=   7.4s\n",
      "[CV] END logreg__C=0.009870470007366716, logreg__penalty=l1, logreg__solver=liblinear; total time=   9.5s\n",
      "[CV] END logreg__C=0.03272260339283022, logreg__penalty=l1, logreg__solver=saga; total time= 2.1min\n",
      "[CV] END logreg__C=0.2632256136809146, logreg__l1_ratio=1.0, logreg__penalty=elasticnet, logreg__solver=saga; total time=13.1min\n",
      "[CV] END logreg__C=59.406801363778335, logreg__penalty=l1, logreg__solver=liblinear; total time=21.5min\n",
      "[CV] END logreg__C=0.00041289467186975294, logreg__penalty=l1, logreg__solver=liblinear; total time=   7.0s\n",
      "[CV] END logreg__C=0.00041289467186975294, logreg__penalty=l1, logreg__solver=liblinear; total time=   6.8s\n",
      "[CV] END logreg__C=59.406801363778335, logreg__penalty=l1, logreg__solver=liblinear; total time=23.0min\n",
      "[CV] END logreg__C=5938.773515847702, logreg__penalty=l1, logreg__solver=liblinear; total time=23.2min\n",
      "[CV] END logreg__C=291.7178717777821, logreg__penalty=l2, logreg__solver=lbfgs; total time=   8.5s\n",
      "[CV] END logreg__C=0.0019488135833929646, logreg__l1_ratio=0.1111111111111111, logreg__penalty=elasticnet, logreg__solver=saga; total time=  44.4s\n",
      "[CV] END logreg__C=291.7178717777821, logreg__penalty=l2, logreg__solver=lbfgs; total time=   9.3s\n",
      "[CV] END ...........logreg__penalty=none, logreg__solver=sag; total time=   0.5s\n",
      "[CV] END ...........logreg__penalty=none, logreg__solver=sag; total time=   0.5s\n",
      "[CV] END logreg__C=0.0019488135833929646, logreg__l1_ratio=0.1111111111111111, logreg__penalty=elasticnet, logreg__solver=saga; total time=  51.1s\n",
      "[CV] END logreg__C=0.2632256136809146, logreg__l1_ratio=1.0, logreg__penalty=elasticnet, logreg__solver=saga; total time=13.9min\n",
      "[CV] END logreg__C=5938.773515847702, logreg__penalty=l1, logreg__solver=liblinear; total time=26.5min\n",
      "[CV] END logreg__C=2.064134227234294, logreg__penalty=l2, logreg__solver=liblinear; total time= 2.3min\n",
      "[CV] END logreg__C=0.0007593034903208885, logreg__penalty=l2, logreg__solver=lbfgs; total time=   2.2s\n",
      "[CV] END logreg__C=0.0007593034903208885, logreg__penalty=l2, logreg__solver=lbfgs; total time=   0.7s\n",
      "[CV] END logreg__C=2.064134227234294, logreg__penalty=l2, logreg__solver=liblinear; total time= 2.3min\n",
      "[CV] END logreg__C=0.2611333312395902, logreg__l1_ratio=0.3333333333333333, logreg__penalty=elasticnet, logreg__solver=saga; total time=14.0min\n",
      "[CV] END logreg__C=0.2611333312395902, logreg__l1_ratio=0.3333333333333333, logreg__penalty=elasticnet, logreg__solver=saga; total time=19.8min\n"
     ]
    },
    {
     "name": "stderr",
     "output_type": "stream",
     "text": [
      "/home/tonyxdsu/.local/lib/python3.12/site-packages/sklearn/linear_model/_sag.py:349: ConvergenceWarning: The max_iter was reached which means the coef_ did not converge\n",
      "  warnings.warn(\n"
     ]
    },
    {
     "name": "stdout",
     "output_type": "stream",
     "text": [
      "[CV] END logreg__C=110.76667222301116, logreg__l1_ratio=0.3333333333333333, logreg__penalty=elasticnet, logreg__solver=saga; total time=25.3min\n",
      "[CV] END logreg__C=1.2189290308386742, logreg__penalty=l2, logreg__solver=lbfgs; total time=   6.6s\n",
      "[CV] END logreg__C=1.2189290308386742, logreg__penalty=l2, logreg__solver=lbfgs; total time=   4.8s\n"
     ]
    },
    {
     "name": "stderr",
     "output_type": "stream",
     "text": [
      "/home/tonyxdsu/.local/lib/python3.12/site-packages/sklearn/linear_model/_sag.py:349: ConvergenceWarning: The max_iter was reached which means the coef_ did not converge\n",
      "  warnings.warn(\n"
     ]
    },
    {
     "name": "stdout",
     "output_type": "stream",
     "text": [
      "[CV] END logreg__C=110.76667222301116, logreg__l1_ratio=0.3333333333333333, logreg__penalty=elasticnet, logreg__solver=saga; total time=25.1min\n",
      "[CV] END logreg__C=0.005982221423148767, logreg__penalty=l2, logreg__solver=sag; total time=  24.7s\n",
      "[CV] END logreg__C=0.005982221423148767, logreg__penalty=l2, logreg__solver=sag; total time=  29.2s\n",
      "[CV] END logreg__C=0.05022516489125325, logreg__penalty=l2, logreg__solver=sag; total time=  56.6s\n"
     ]
    },
    {
     "name": "stderr",
     "output_type": "stream",
     "text": [
      "/home/tonyxdsu/.local/lib/python3.12/site-packages/sklearn/linear_model/_sag.py:349: ConvergenceWarning: The max_iter was reached which means the coef_ did not converge\n",
      "  warnings.warn(\n"
     ]
    },
    {
     "name": "stdout",
     "output_type": "stream",
     "text": [
      "[CV] END logreg__C=936.8816255577204, logreg__penalty=l1, logreg__solver=saga; total time=25.0min\n",
      "[CV] END logreg__C=0.05022516489125325, logreg__penalty=l2, logreg__solver=sag; total time= 1.4min\n"
     ]
    },
    {
     "name": "stderr",
     "output_type": "stream",
     "text": [
      "/home/tonyxdsu/.local/lib/python3.12/site-packages/sklearn/linear_model/_sag.py:349: ConvergenceWarning: The max_iter was reached which means the coef_ did not converge\n",
      "  warnings.warn(\n"
     ]
    },
    {
     "name": "stdout",
     "output_type": "stream",
     "text": [
      "[CV] END logreg__C=936.8816255577204, logreg__penalty=l1, logreg__solver=saga; total time=26.9min\n",
      "[CV] END logreg__C=0.03851442834399526, logreg__l1_ratio=0.7777777777777777, logreg__penalty=elasticnet, logreg__solver=saga; total time= 2.6min\n",
      "[CV] END logreg__C=0.03851442834399526, logreg__l1_ratio=0.7777777777777777, logreg__penalty=elasticnet, logreg__solver=saga; total time= 2.6min\n"
     ]
    },
    {
     "name": "stderr",
     "output_type": "stream",
     "text": [
      "/home/tonyxdsu/.local/lib/python3.12/site-packages/sklearn/linear_model/_sag.py:349: ConvergenceWarning: The max_iter was reached which means the coef_ did not converge\n",
      "  warnings.warn(\n"
     ]
    },
    {
     "name": "stdout",
     "output_type": "stream",
     "text": [
      "[CV] END logreg__C=1474.7907308930864, logreg__l1_ratio=0.6666666666666666, logreg__penalty=elasticnet, logreg__solver=saga; total time=26.8min\n",
      "[CV] END logreg__C=0.010747892437840835, logreg__penalty=l1, logreg__solver=saga; total time=  41.2s\n",
      "[CV] END logreg__C=0.010747892437840835, logreg__penalty=l1, logreg__solver=saga; total time=  46.8s\n"
     ]
    },
    {
     "name": "stderr",
     "output_type": "stream",
     "text": [
      "/home/tonyxdsu/.local/lib/python3.12/site-packages/sklearn/linear_model/_sag.py:349: ConvergenceWarning: The max_iter was reached which means the coef_ did not converge\n",
      "  warnings.warn(\n"
     ]
    },
    {
     "name": "stdout",
     "output_type": "stream",
     "text": [
      "[CV] END logreg__C=1474.7907308930864, logreg__l1_ratio=0.6666666666666666, logreg__penalty=elasticnet, logreg__solver=saga; total time=26.8min\n",
      "[CV] END logreg__C=0.0015300141229217794, logreg__penalty=l1, logreg__solver=saga; total time=  11.0s\n",
      "[CV] END logreg__C=0.0015300141229217794, logreg__penalty=l1, logreg__solver=saga; total time=  10.4s\n",
      "[CV] END logreg__C=0.013622227035674636, logreg__penalty=l1, logreg__solver=saga; total time=  52.0s\n",
      "[CV] END logreg__C=0.013622227035674636, logreg__penalty=l1, logreg__solver=saga; total time=  53.2s\n",
      "[CV] END logreg__C=0.19422096452272303, logreg__penalty=l2, logreg__solver=sag; total time= 1.9min\n",
      "[CV] END logreg__C=0.05761956619023542, logreg__penalty=l1, logreg__solver=liblinear; total time=  13.5s\n",
      "[CV] END logreg__C=0.05761956619023542, logreg__penalty=l1, logreg__solver=liblinear; total time=  11.8s\n",
      "[CV] END logreg__C=0.19422096452272303, logreg__penalty=l2, logreg__solver=sag; total time= 2.6min\n"
     ]
    },
    {
     "name": "stderr",
     "output_type": "stream",
     "text": [
      "/home/tonyxdsu/.local/lib/python3.12/site-packages/sklearn/linear_model/_sag.py:349: ConvergenceWarning: The max_iter was reached which means the coef_ did not converge\n",
      "  warnings.warn(\n"
     ]
    },
    {
     "name": "stdout",
     "output_type": "stream",
     "text": [
      "[CV] END logreg__C=37.19068544473705, logreg__penalty=l2, logreg__solver=sag; total time= 6.0min\n",
      "[CV] END ...........logreg__penalty=none, logreg__solver=sag; total time=   0.5s\n",
      "[CV] END ...........logreg__penalty=none, logreg__solver=sag; total time=   0.5s\n",
      "[CV] END ...........logreg__penalty=none, logreg__solver=sag; total time=   0.5s\n",
      "[CV] END ...........logreg__penalty=none, logreg__solver=sag; total time=   0.5s\n",
      "[CV] END ..........logreg__penalty=none, logreg__solver=saga; total time=   0.5s\n",
      "[CV] END ..........logreg__penalty=none, logreg__solver=saga; total time=   0.5s\n",
      "[CV] END ..........logreg__penalty=none, logreg__solver=saga; total time=   0.5s\n",
      "[CV] END ..........logreg__penalty=none, logreg__solver=saga; total time=   0.5s\n"
     ]
    },
    {
     "name": "stderr",
     "output_type": "stream",
     "text": [
      "/home/tonyxdsu/.local/lib/python3.12/site-packages/sklearn/linear_model/_sag.py:349: ConvergenceWarning: The max_iter was reached which means the coef_ did not converge\n",
      "  warnings.warn(\n"
     ]
    },
    {
     "name": "stdout",
     "output_type": "stream",
     "text": [
      "[CV] END logreg__C=37.19068544473705, logreg__penalty=l2, logreg__solver=sag; total time= 5.6min\n",
      "[CV] END logreg__C=0.1700941465386248, logreg__penalty=l1, logreg__solver=saga; total time= 8.8min\n",
      "[CV] END logreg__C=0.09062241853992614, logreg__l1_ratio=0.0, logreg__penalty=elasticnet, logreg__solver=saga; total time= 2.0min\n",
      "[CV] END logreg__C=0.1700941465386248, logreg__penalty=l1, logreg__solver=saga; total time= 9.0min\n",
      "[CV] END ...........logreg__penalty=none, logreg__solver=sag; total time=   0.5s\n",
      "[CV] END ...........logreg__penalty=none, logreg__solver=sag; total time=   0.5s\n",
      "[CV] END logreg__C=768.8553948726385, logreg__penalty=l1, logreg__solver=liblinear; total time=20.2min\n",
      "[CV] END logreg__C=0.09062241853992614, logreg__l1_ratio=0.0, logreg__penalty=elasticnet, logreg__solver=saga; total time= 2.8min\n",
      "[CV] END .........logreg__penalty=none, logreg__solver=lbfgs; total time=   0.5s\n",
      "[CV] END .........logreg__penalty=none, logreg__solver=lbfgs; total time=   0.5s\n",
      "[CV] END logreg__C=0.15509419378188335, logreg__penalty=l2, logreg__solver=sag; total time= 1.8min\n",
      "[CV] END logreg__C=0.15509419378188335, logreg__penalty=l2, logreg__solver=sag; total time= 2.1min\n",
      "[CV] END .........logreg__penalty=none, logreg__solver=lbfgs; total time=   0.5s\n",
      "[CV] END .........logreg__penalty=none, logreg__solver=lbfgs; total time=   0.5s\n",
      "[CV] END logreg__C=0.03683329062823529, logreg__penalty=l1, logreg__solver=saga; total time= 2.1min\n",
      "[CV] END logreg__C=0.03683329062823529, logreg__penalty=l1, logreg__solver=saga; total time= 2.6min\n",
      "[CV] END logreg__C=768.8553948726385, logreg__penalty=l1, logreg__solver=liblinear; total time=18.1min\n"
     ]
    },
    {
     "name": "stderr",
     "output_type": "stream",
     "text": [
      "/home/tonyxdsu/.local/lib/python3.12/site-packages/sklearn/linear_model/_sag.py:349: ConvergenceWarning: The max_iter was reached which means the coef_ did not converge\n",
      "  warnings.warn(\n"
     ]
    },
    {
     "name": "stdout",
     "output_type": "stream",
     "text": [
      "[CV] END logreg__C=27.90253184331042, logreg__l1_ratio=0.4444444444444444, logreg__penalty=elasticnet, logreg__solver=saga; total time=25.6min\n",
      "[CV] END ..........logreg__penalty=none, logreg__solver=saga; total time=   0.4s\n",
      "[CV] END ..........logreg__penalty=none, logreg__solver=saga; total time=   0.4s\n",
      "[CV] END .........logreg__penalty=none, logreg__solver=lbfgs; total time=   0.5s\n",
      "[CV] END .........logreg__penalty=none, logreg__solver=lbfgs; total time=   0.5s\n",
      "[CV] END logreg__C=0.15155705886074045, logreg__penalty=l1, logreg__solver=liblinear; total time=  19.7s\n",
      "[CV] END logreg__C=0.15155705886074045, logreg__penalty=l1, logreg__solver=liblinear; total time=  18.3s\n"
     ]
    },
    {
     "name": "stderr",
     "output_type": "stream",
     "text": [
      "/home/tonyxdsu/.local/lib/python3.12/site-packages/sklearn/linear_model/_sag.py:349: ConvergenceWarning: The max_iter was reached which means the coef_ did not converge\n",
      "  warnings.warn(\n"
     ]
    },
    {
     "name": "stdout",
     "output_type": "stream",
     "text": [
      "[CV] END logreg__C=27.90253184331042, logreg__l1_ratio=0.4444444444444444, logreg__penalty=elasticnet, logreg__solver=saga; total time=27.2min\n"
     ]
    },
    {
     "name": "stderr",
     "output_type": "stream",
     "text": [
      "/home/tonyxdsu/.local/lib/python3.12/site-packages/sklearn/linear_model/_sag.py:349: ConvergenceWarning: The max_iter was reached which means the coef_ did not converge\n",
      "  warnings.warn(\n"
     ]
    },
    {
     "name": "stdout",
     "output_type": "stream",
     "text": [
      "[CV] END logreg__C=266.14484032100796, logreg__l1_ratio=0.4444444444444444, logreg__penalty=elasticnet, logreg__solver=saga; total time=25.2min\n",
      "[CV] END .........logreg__penalty=none, logreg__solver=lbfgs; total time=   0.4s\n",
      "[CV] END .........logreg__penalty=none, logreg__solver=lbfgs; total time=   0.4s\n",
      "[CV] END logreg__C=0.0047051445031140015, logreg__penalty=l1, logreg__solver=liblinear; total time=   4.2s\n",
      "[CV] END logreg__C=0.0047051445031140015, logreg__penalty=l1, logreg__solver=liblinear; total time=   7.1s\n"
     ]
    },
    {
     "name": "stderr",
     "output_type": "stream",
     "text": [
      "/home/tonyxdsu/.local/lib/python3.12/site-packages/sklearn/linear_model/_sag.py:349: ConvergenceWarning: The max_iter was reached which means the coef_ did not converge\n",
      "  warnings.warn(\n"
     ]
    },
    {
     "name": "stdout",
     "output_type": "stream",
     "text": [
      "[CV] END logreg__C=266.14484032100796, logreg__l1_ratio=0.4444444444444444, logreg__penalty=elasticnet, logreg__solver=saga; total time=26.7min\n"
     ]
    },
    {
     "name": "stderr",
     "output_type": "stream",
     "text": [
      "/home/tonyxdsu/.local/lib/python3.12/site-packages/sklearn/linear_model/_sag.py:349: ConvergenceWarning: The max_iter was reached which means the coef_ did not converge\n",
      "  warnings.warn(\n"
     ]
    },
    {
     "name": "stdout",
     "output_type": "stream",
     "text": [
      "[CV] END logreg__C=503.1307340237279, logreg__penalty=l2, logreg__solver=sag; total time= 5.4min\n",
      "[CV] END ...........logreg__penalty=none, logreg__solver=sag; total time=   0.5s\n",
      "[CV] END ...........logreg__penalty=none, logreg__solver=sag; total time=   0.5s\n",
      "[CV] END .........logreg__penalty=none, logreg__solver=lbfgs; total time=   0.5s\n",
      "[CV] END .........logreg__penalty=none, logreg__solver=lbfgs; total time=   0.5s\n",
      "[CV] END .........logreg__penalty=none, logreg__solver=lbfgs; total time=   0.5s\n",
      "[CV] END .........logreg__penalty=none, logreg__solver=lbfgs; total time=   0.5s\n"
     ]
    },
    {
     "name": "stderr",
     "output_type": "stream",
     "text": [
      "/home/tonyxdsu/.local/lib/python3.12/site-packages/sklearn/linear_model/_sag.py:349: ConvergenceWarning: The max_iter was reached which means the coef_ did not converge\n",
      "  warnings.warn(\n"
     ]
    },
    {
     "name": "stdout",
     "output_type": "stream",
     "text": [
      "[CV] END logreg__C=503.1307340237279, logreg__penalty=l2, logreg__solver=sag; total time= 5.7min\n"
     ]
    },
    {
     "name": "stderr",
     "output_type": "stream",
     "text": [
      "/home/tonyxdsu/.local/lib/python3.12/site-packages/sklearn/linear_model/_sag.py:349: ConvergenceWarning: The max_iter was reached which means the coef_ did not converge\n",
      "  warnings.warn(\n"
     ]
    },
    {
     "name": "stdout",
     "output_type": "stream",
     "text": [
      "[CV] END logreg__C=5.335112055356566, logreg__l1_ratio=0.3333333333333333, logreg__penalty=elasticnet, logreg__solver=saga; total time=26.6min\n",
      "[CV] END .........logreg__penalty=none, logreg__solver=lbfgs; total time=   0.5s\n",
      "[CV] END .........logreg__penalty=none, logreg__solver=lbfgs; total time=   0.5s\n"
     ]
    },
    {
     "name": "stderr",
     "output_type": "stream",
     "text": [
      "/home/tonyxdsu/.local/lib/python3.12/site-packages/sklearn/linear_model/_sag.py:349: ConvergenceWarning: The max_iter was reached which means the coef_ did not converge\n",
      "  warnings.warn(\n"
     ]
    },
    {
     "name": "stdout",
     "output_type": "stream",
     "text": [
      "[CV] END logreg__C=36.83623159319518, logreg__penalty=l2, logreg__solver=sag; total time= 5.4min\n"
     ]
    },
    {
     "name": "stderr",
     "output_type": "stream",
     "text": [
      "/home/tonyxdsu/.local/lib/python3.12/site-packages/sklearn/linear_model/_sag.py:349: ConvergenceWarning: The max_iter was reached which means the coef_ did not converge\n",
      "  warnings.warn(\n"
     ]
    },
    {
     "name": "stdout",
     "output_type": "stream",
     "text": [
      "[CV] END logreg__C=5.335112055356566, logreg__l1_ratio=0.3333333333333333, logreg__penalty=elasticnet, logreg__solver=saga; total time=26.6min\n",
      "[CV] END logreg__C=0.017020441480620794, logreg__penalty=l1, logreg__solver=liblinear; total time=  11.8s\n",
      "[CV] END logreg__C=0.017020441480620794, logreg__penalty=l1, logreg__solver=liblinear; total time=  10.1s\n",
      "[CV] END ..........logreg__penalty=none, logreg__solver=saga; total time=   0.5s\n",
      "[CV] END ..........logreg__penalty=none, logreg__solver=saga; total time=   0.7s\n",
      "[CV] END ...........logreg__penalty=none, logreg__solver=sag; total time=   0.5s\n",
      "[CV] END ...........logreg__penalty=none, logreg__solver=sag; total time=   0.5s\n",
      "[CV] END .........logreg__penalty=none, logreg__solver=lbfgs; total time=   0.5s\n",
      "[CV] END .........logreg__penalty=none, logreg__solver=lbfgs; total time=   0.5s\n",
      "[CV] END ..........logreg__penalty=none, logreg__solver=saga; total time=   0.5s\n",
      "[CV] END ..........logreg__penalty=none, logreg__solver=saga; total time=   0.5s\n",
      "[CV] END logreg__C=0.001963494606984601, logreg__penalty=l1, logreg__solver=saga; total time=  13.1s\n",
      "[CV] END logreg__C=0.001963494606984601, logreg__penalty=l1, logreg__solver=saga; total time=  10.9s\n",
      "[CV] END ...........logreg__penalty=none, logreg__solver=sag; total time=   0.5s\n",
      "[CV] END ...........logreg__penalty=none, logreg__solver=sag; total time=   0.5s\n"
     ]
    },
    {
     "name": "stderr",
     "output_type": "stream",
     "text": [
      "/home/tonyxdsu/.local/lib/python3.12/site-packages/sklearn/linear_model/_sag.py:349: ConvergenceWarning: The max_iter was reached which means the coef_ did not converge\n",
      "  warnings.warn(\n"
     ]
    },
    {
     "name": "stdout",
     "output_type": "stream",
     "text": [
      "[CV] END logreg__C=48.88732333037397, logreg__l1_ratio=0.2222222222222222, logreg__penalty=elasticnet, logreg__solver=saga; total time=27.0min\n"
     ]
    },
    {
     "name": "stderr",
     "output_type": "stream",
     "text": [
      "/home/tonyxdsu/.local/lib/python3.12/site-packages/sklearn/linear_model/_sag.py:349: ConvergenceWarning: The max_iter was reached which means the coef_ did not converge\n",
      "  warnings.warn(\n"
     ]
    },
    {
     "name": "stdout",
     "output_type": "stream",
     "text": [
      "[CV] END logreg__C=48.88732333037397, logreg__l1_ratio=0.2222222222222222, logreg__penalty=elasticnet, logreg__solver=saga; total time=26.9min\n"
     ]
    },
    {
     "name": "stderr",
     "output_type": "stream",
     "text": [
      "/home/tonyxdsu/.local/lib/python3.12/site-packages/sklearn/linear_model/_sag.py:349: ConvergenceWarning: The max_iter was reached which means the coef_ did not converge\n",
      "  warnings.warn(\n"
     ]
    },
    {
     "name": "stdout",
     "output_type": "stream",
     "text": [
      "[CV] END logreg__C=36.83623159319518, logreg__penalty=l2, logreg__solver=sag; total time= 6.0min\n",
      "[CV] END logreg__C=0.09511787351464314, logreg__l1_ratio=0.8888888888888888, logreg__penalty=elasticnet, logreg__solver=saga; total time= 6.1min\n",
      "[CV] END ...........logreg__penalty=none, logreg__solver=sag; total time=   0.5s\n",
      "[CV] END ...........logreg__penalty=none, logreg__solver=sag; total time=   0.5s\n",
      "[CV] END logreg__C=0.09511787351464314, logreg__l1_ratio=0.8888888888888888, logreg__penalty=elasticnet, logreg__solver=saga; total time= 5.9min\n",
      "[CV] END logreg__C=9333.179061670755, logreg__penalty=l2, logreg__solver=liblinear; total time= 9.1min\n",
      "[CV] END .........logreg__penalty=none, logreg__solver=lbfgs; total time=   0.5s\n",
      "[CV] END .........logreg__penalty=none, logreg__solver=lbfgs; total time=   0.5s\n",
      "[CV] END logreg__C=0.0025550654030086603, logreg__penalty=l1, logreg__solver=saga; total time=  12.5s\n",
      "[CV] END logreg__C=0.0025550654030086603, logreg__penalty=l1, logreg__solver=saga; total time=  15.6s\n",
      "[CV] END logreg__C=0.7672025341585869, logreg__penalty=l2, logreg__solver=sag; total time= 3.2min\n",
      "[CV] END logreg__C=0.7672025341585869, logreg__penalty=l2, logreg__solver=sag; total time= 4.4min\n",
      "[CV] END ..........logreg__penalty=none, logreg__solver=saga; total time=   0.5s\n",
      "[CV] END ..........logreg__penalty=none, logreg__solver=saga; total time=   0.6s\n"
     ]
    },
    {
     "name": "stderr",
     "output_type": "stream",
     "text": [
      "/home/tonyxdsu/.local/lib/python3.12/site-packages/sklearn/linear_model/_sag.py:349: ConvergenceWarning: The max_iter was reached which means the coef_ did not converge\n",
      "  warnings.warn(\n"
     ]
    },
    {
     "name": "stdout",
     "output_type": "stream",
     "text": [
      "[CV] END logreg__C=18.234889604457635, logreg__l1_ratio=0.0, logreg__penalty=elasticnet, logreg__solver=saga; total time= 6.8min\n",
      "[CV] END logreg__C=9333.179061670755, logreg__penalty=l2, logreg__solver=liblinear; total time=23.2min\n",
      "[CV] END ..........logreg__penalty=none, logreg__solver=saga; total time=   0.5s\n",
      "[CV] END ..........logreg__penalty=none, logreg__solver=saga; total time=   0.5s\n",
      "[CV] END logreg__C=1151.0408729685914, logreg__penalty=l1, logreg__solver=liblinear; total time=21.7min\n",
      "[CV] END logreg__C=1151.0408729685914, logreg__penalty=l1, logreg__solver=liblinear; total time=25.1min\n"
     ]
    },
    {
     "name": "stderr",
     "output_type": "stream",
     "text": [
      "/home/tonyxdsu/.local/lib/python3.12/site-packages/sklearn/linear_model/_sag.py:349: ConvergenceWarning: The max_iter was reached which means the coef_ did not converge\n",
      "  warnings.warn(\n"
     ]
    },
    {
     "name": "stdout",
     "output_type": "stream",
     "text": [
      "[CV] END logreg__C=18.234889604457635, logreg__l1_ratio=0.0, logreg__penalty=elasticnet, logreg__solver=saga; total time= 6.6min\n",
      "[CV] END logreg__C=5.235603875213307, logreg__penalty=l2, logreg__solver=liblinear; total time= 2.5min\n",
      "[CV] END logreg__C=5.235603875213307, logreg__penalty=l2, logreg__solver=liblinear; total time= 2.7min\n"
     ]
    },
    {
     "name": "stderr",
     "output_type": "stream",
     "text": [
      "/home/tonyxdsu/.local/lib/python3.12/site-packages/sklearn/linear_model/_sag.py:349: ConvergenceWarning: The max_iter was reached which means the coef_ did not converge\n",
      "  warnings.warn(\n"
     ]
    },
    {
     "name": "stdout",
     "output_type": "stream",
     "text": [
      "[CV] END logreg__C=6156.171273792767, logreg__l1_ratio=0.1111111111111111, logreg__penalty=elasticnet, logreg__solver=saga; total time=26.5min\n"
     ]
    },
    {
     "name": "stderr",
     "output_type": "stream",
     "text": [
      "/home/tonyxdsu/.local/lib/python3.12/site-packages/sklearn/linear_model/_sag.py:349: ConvergenceWarning: The max_iter was reached which means the coef_ did not converge\n",
      "  warnings.warn(\n"
     ]
    },
    {
     "name": "stdout",
     "output_type": "stream",
     "text": [
      "[CV] END logreg__C=6156.171273792767, logreg__l1_ratio=0.1111111111111111, logreg__penalty=elasticnet, logreg__solver=saga; total time=26.5min\n"
     ]
    },
    {
     "name": "stderr",
     "output_type": "stream",
     "text": [
      "/home/tonyxdsu/.local/lib/python3.12/site-packages/sklearn/linear_model/_sag.py:349: ConvergenceWarning: The max_iter was reached which means the coef_ did not converge\n",
      "  warnings.warn(\n"
     ]
    },
    {
     "name": "stdout",
     "output_type": "stream",
     "text": [
      "[CV] END logreg__C=0.8936135006908086, logreg__penalty=l1, logreg__solver=saga; total time=24.7min\n"
     ]
    },
    {
     "name": "stderr",
     "output_type": "stream",
     "text": [
      "/home/tonyxdsu/.local/lib/python3.12/site-packages/sklearn/linear_model/_sag.py:349: ConvergenceWarning: The max_iter was reached which means the coef_ did not converge\n",
      "  warnings.warn(\n"
     ]
    },
    {
     "name": "stdout",
     "output_type": "stream",
     "text": [
      "[CV] END logreg__C=0.8936135006908086, logreg__penalty=l1, logreg__solver=saga; total time=27.0min\n"
     ]
    },
    {
     "name": "stderr",
     "output_type": "stream",
     "text": [
      "/home/tonyxdsu/.local/lib/python3.12/site-packages/sklearn/linear_model/_sag.py:349: ConvergenceWarning: The max_iter was reached which means the coef_ did not converge\n",
      "  warnings.warn(\n"
     ]
    },
    {
     "name": "stdout",
     "output_type": "stream",
     "text": [
      "[CV] END logreg__C=14.481945082514356, logreg__penalty=l2, logreg__solver=sag; total time= 5.4min\n",
      "[CV] END .........logreg__penalty=none, logreg__solver=lbfgs; total time=   0.5s\n",
      "[CV] END .........logreg__penalty=none, logreg__solver=lbfgs; total time=   0.5s\n",
      "[CV] END logreg__C=0.0069419606237345974, logreg__penalty=l1, logreg__solver=saga; total time=  32.0s\n",
      "[CV] END logreg__C=0.0069419606237345974, logreg__penalty=l1, logreg__solver=saga; total time=  29.6s\n"
     ]
    },
    {
     "name": "stderr",
     "output_type": "stream",
     "text": [
      "/home/tonyxdsu/.local/lib/python3.12/site-packages/sklearn/linear_model/_sag.py:349: ConvergenceWarning: The max_iter was reached which means the coef_ did not converge\n",
      "  warnings.warn(\n"
     ]
    },
    {
     "name": "stdout",
     "output_type": "stream",
     "text": [
      "[CV] END logreg__C=14.481945082514356, logreg__penalty=l2, logreg__solver=sag; total time= 5.7min\n",
      "[CV] END logreg__C=0.2986447772147479, logreg__l1_ratio=0.4444444444444444, logreg__penalty=elasticnet, logreg__solver=saga; total time=16.1min\n",
      "[CV] END .........logreg__penalty=none, logreg__solver=lbfgs; total time=   0.5s\n",
      "[CV] END .........logreg__penalty=none, logreg__solver=lbfgs; total time=   0.5s\n",
      "[CV] END ...........logreg__penalty=none, logreg__solver=sag; total time=   0.5s\n",
      "[CV] END ...........logreg__penalty=none, logreg__solver=sag; total time=   0.5s\n",
      "[CV] END logreg__C=0.01723783559661766, logreg__penalty=l1, logreg__solver=saga; total time= 1.1min\n",
      "[CV] END logreg__C=0.01723783559661766, logreg__penalty=l1, logreg__solver=saga; total time= 1.2min\n"
     ]
    },
    {
     "name": "stderr",
     "output_type": "stream",
     "text": [
      "/home/tonyxdsu/.local/lib/python3.12/site-packages/sklearn/linear_model/_sag.py:349: ConvergenceWarning: The max_iter was reached which means the coef_ did not converge\n",
      "  warnings.warn(\n"
     ]
    },
    {
     "name": "stdout",
     "output_type": "stream",
     "text": [
      "[CV] END logreg__C=3.767329390130771, logreg__l1_ratio=0.0, logreg__penalty=elasticnet, logreg__solver=saga; total time= 6.0min\n"
     ]
    },
    {
     "name": "stderr",
     "output_type": "stream",
     "text": [
      "/home/tonyxdsu/.local/lib/python3.12/site-packages/sklearn/linear_model/_sag.py:349: ConvergenceWarning: The max_iter was reached which means the coef_ did not converge\n",
      "  warnings.warn(\n"
     ]
    },
    {
     "name": "stdout",
     "output_type": "stream",
     "text": [
      "[CV] END logreg__C=12.321425216715298, logreg__l1_ratio=0.5555555555555556, logreg__penalty=elasticnet, logreg__solver=saga; total time=26.5min\n",
      "[CV] END .........logreg__penalty=none, logreg__solver=lbfgs; total time=   0.5s\n",
      "[CV] END .........logreg__penalty=none, logreg__solver=lbfgs; total time=   0.5s\n"
     ]
    },
    {
     "name": "stderr",
     "output_type": "stream",
     "text": [
      "/home/tonyxdsu/.local/lib/python3.12/site-packages/sklearn/linear_model/_sag.py:349: ConvergenceWarning: The max_iter was reached which means the coef_ did not converge\n",
      "  warnings.warn(\n"
     ]
    },
    {
     "name": "stdout",
     "output_type": "stream",
     "text": [
      "[CV] END logreg__C=3.767329390130771, logreg__l1_ratio=0.0, logreg__penalty=elasticnet, logreg__solver=saga; total time= 6.4min\n"
     ]
    },
    {
     "name": "stderr",
     "output_type": "stream",
     "text": [
      "/home/tonyxdsu/.local/lib/python3.12/site-packages/sklearn/linear_model/_sag.py:349: ConvergenceWarning: The max_iter was reached which means the coef_ did not converge\n",
      "  warnings.warn(\n"
     ]
    },
    {
     "name": "stdout",
     "output_type": "stream",
     "text": [
      "[CV] END logreg__C=12.321425216715298, logreg__l1_ratio=0.5555555555555556, logreg__penalty=elasticnet, logreg__solver=saga; total time=27.7min\n",
      "[CV] END logreg__C=2.6431373679962973, logreg__penalty=l1, logreg__solver=liblinear; total time= 3.3min\n",
      "[CV] END logreg__C=0.2986447772147479, logreg__l1_ratio=0.4444444444444444, logreg__penalty=elasticnet, logreg__solver=saga; total time=21.4min\n",
      "[CV] END logreg__C=2.6431373679962973, logreg__penalty=l1, logreg__solver=liblinear; total time= 3.6min\n"
     ]
    },
    {
     "name": "stderr",
     "output_type": "stream",
     "text": [
      "/home/tonyxdsu/.local/lib/python3.12/site-packages/sklearn/linear_model/_sag.py:349: ConvergenceWarning: The max_iter was reached which means the coef_ did not converge\n",
      "  warnings.warn(\n"
     ]
    },
    {
     "name": "stdout",
     "output_type": "stream",
     "text": [
      "[CV] END logreg__C=0.7833164078965658, logreg__penalty=l1, logreg__solver=saga; total time=25.0min\n",
      "[CV] END logreg__C=0.02789819813238153, logreg__l1_ratio=0.6666666666666666, logreg__penalty=elasticnet, logreg__solver=saga; total time= 2.4min\n"
     ]
    },
    {
     "name": "stderr",
     "output_type": "stream",
     "text": [
      "/home/tonyxdsu/.local/lib/python3.12/site-packages/sklearn/linear_model/_sag.py:349: ConvergenceWarning: The max_iter was reached which means the coef_ did not converge\n",
      "  warnings.warn(\n"
     ]
    },
    {
     "name": "stdout",
     "output_type": "stream",
     "text": [
      "[CV] END logreg__C=0.7833164078965658, logreg__penalty=l1, logreg__solver=saga; total time=25.7min\n",
      "[CV] END logreg__C=0.02789819813238153, logreg__l1_ratio=0.6666666666666666, logreg__penalty=elasticnet, logreg__solver=saga; total time= 2.4min\n",
      "[CV] END logreg__C=0.03430647063816281, logreg__penalty=l1, logreg__solver=saga; total time= 2.2min\n",
      "[CV] END logreg__C=0.03430647063816281, logreg__penalty=l1, logreg__solver=saga; total time= 2.4min\n"
     ]
    },
    {
     "name": "stderr",
     "output_type": "stream",
     "text": [
      "/home/tonyxdsu/.local/lib/python3.12/site-packages/sklearn/linear_model/_sag.py:349: ConvergenceWarning: The max_iter was reached which means the coef_ did not converge\n",
      "  warnings.warn(\n"
     ]
    },
    {
     "name": "stdout",
     "output_type": "stream",
     "text": [
      "[CV] END logreg__C=2.847148370439123, logreg__penalty=l2, logreg__solver=sag; total time= 5.4min\n",
      "[CV] END logreg__C=0.0005989794878601635, logreg__penalty=l2, logreg__solver=saga; total time=  13.2s\n",
      "[CV] END logreg__C=0.0005989794878601635, logreg__penalty=l2, logreg__solver=saga; total time=  16.6s\n"
     ]
    },
    {
     "name": "stderr",
     "output_type": "stream",
     "text": [
      "/home/tonyxdsu/.local/lib/python3.12/site-packages/sklearn/linear_model/_sag.py:349: ConvergenceWarning: The max_iter was reached which means the coef_ did not converge\n",
      "  warnings.warn(\n"
     ]
    },
    {
     "name": "stdout",
     "output_type": "stream",
     "text": [
      "[CV] END logreg__C=2.847148370439123, logreg__penalty=l2, logreg__solver=sag; total time= 5.7min\n"
     ]
    },
    {
     "name": "stderr",
     "output_type": "stream",
     "text": [
      "/home/tonyxdsu/.local/lib/python3.12/site-packages/sklearn/linear_model/_sag.py:349: ConvergenceWarning: The max_iter was reached which means the coef_ did not converge\n",
      "  warnings.warn(\n"
     ]
    },
    {
     "name": "stdout",
     "output_type": "stream",
     "text": [
      "[CV] END logreg__C=37.003122495420975, logreg__penalty=l2, logreg__solver=saga; total time= 6.3min\n"
     ]
    },
    {
     "name": "stderr",
     "output_type": "stream",
     "text": [
      "/home/tonyxdsu/.local/lib/python3.12/site-packages/sklearn/linear_model/_sag.py:349: ConvergenceWarning: The max_iter was reached which means the coef_ did not converge\n",
      "  warnings.warn(\n"
     ]
    },
    {
     "name": "stdout",
     "output_type": "stream",
     "text": [
      "[CV] END logreg__C=37.003122495420975, logreg__penalty=l2, logreg__solver=saga; total time= 6.3min\n"
     ]
    },
    {
     "name": "stderr",
     "output_type": "stream",
     "text": [
      "/home/tonyxdsu/.local/lib/python3.12/site-packages/sklearn/linear_model/_sag.py:349: ConvergenceWarning: The max_iter was reached which means the coef_ did not converge\n",
      "  warnings.warn(\n"
     ]
    },
    {
     "name": "stdout",
     "output_type": "stream",
     "text": [
      "[CV] END logreg__C=95.88489371365603, logreg__l1_ratio=0.4444444444444444, logreg__penalty=elasticnet, logreg__solver=saga; total time=25.2min\n",
      "[CV] END logreg__C=84.36240304589406, logreg__penalty=l2, logreg__solver=lbfgs; total time=   7.6s\n",
      "[CV] END logreg__C=84.36240304589406, logreg__penalty=l2, logreg__solver=lbfgs; total time=   6.4s\n"
     ]
    },
    {
     "name": "stderr",
     "output_type": "stream",
     "text": [
      "/home/tonyxdsu/.local/lib/python3.12/site-packages/sklearn/linear_model/_sag.py:349: ConvergenceWarning: The max_iter was reached which means the coef_ did not converge\n",
      "  warnings.warn(\n"
     ]
    },
    {
     "name": "stdout",
     "output_type": "stream",
     "text": [
      "[CV] END logreg__C=95.88489371365603, logreg__l1_ratio=0.4444444444444444, logreg__penalty=elasticnet, logreg__solver=saga; total time=26.8min\n"
     ]
    },
    {
     "name": "stderr",
     "output_type": "stream",
     "text": [
      "/home/tonyxdsu/.local/lib/python3.12/site-packages/sklearn/linear_model/_sag.py:349: ConvergenceWarning: The max_iter was reached which means the coef_ did not converge\n",
      "  warnings.warn(\n"
     ]
    },
    {
     "name": "stdout",
     "output_type": "stream",
     "text": [
      "[CV] END logreg__C=6960.696045533475, logreg__l1_ratio=0.3333333333333333, logreg__penalty=elasticnet, logreg__solver=saga; total time=25.2min\n"
     ]
    },
    {
     "name": "stderr",
     "output_type": "stream",
     "text": [
      "/home/tonyxdsu/.local/lib/python3.12/site-packages/sklearn/linear_model/_sag.py:349: ConvergenceWarning: The max_iter was reached which means the coef_ did not converge\n",
      "  warnings.warn(\n"
     ]
    },
    {
     "name": "stdout",
     "output_type": "stream",
     "text": [
      "[CV] END logreg__C=6960.696045533475, logreg__l1_ratio=0.3333333333333333, logreg__penalty=elasticnet, logreg__solver=saga; total time=25.2min\n",
      "[CV] END logreg__C=0.02232208482369078, logreg__l1_ratio=0.6666666666666666, logreg__penalty=elasticnet, logreg__solver=saga; total time= 1.8min\n",
      "[CV] END logreg__C=302.6266410037229, logreg__penalty=l2, logreg__solver=lbfgs; total time=   8.6s\n",
      "[CV] END logreg__C=302.6266410037229, logreg__penalty=l2, logreg__solver=lbfgs; total time=  10.4s\n",
      "[CV] END .........logreg__penalty=none, logreg__solver=lbfgs; total time=   0.4s\n",
      "[CV] END .........logreg__penalty=none, logreg__solver=lbfgs; total time=   0.5s\n",
      "[CV] END ...........logreg__penalty=none, logreg__solver=sag; total time=   0.4s\n",
      "[CV] END ...........logreg__penalty=none, logreg__solver=sag; total time=   0.5s\n",
      "[CV] END logreg__C=0.02232208482369078, logreg__l1_ratio=0.6666666666666666, logreg__penalty=elasticnet, logreg__solver=saga; total time= 1.9min\n"
     ]
    },
    {
     "name": "stderr",
     "output_type": "stream",
     "text": [
      "/home/tonyxdsu/.local/lib/python3.12/site-packages/sklearn/linear_model/_sag.py:349: ConvergenceWarning: The max_iter was reached which means the coef_ did not converge\n",
      "  warnings.warn(\n"
     ]
    },
    {
     "name": "stdout",
     "output_type": "stream",
     "text": [
      "[CV] END logreg__C=8325.892531686308, logreg__l1_ratio=0.1111111111111111, logreg__penalty=elasticnet, logreg__solver=saga; total time=25.3min\n",
      "[CV] END logreg__C=0.0003694258965723947, logreg__penalty=l1, logreg__solver=saga; total time=   8.5s\n",
      "[CV] END logreg__C=0.0003694258965723947, logreg__penalty=l1, logreg__solver=saga; total time=  11.9s\n",
      "[CV] END ...........logreg__penalty=none, logreg__solver=sag; total time=   0.5s\n",
      "[CV] END ...........logreg__penalty=none, logreg__solver=sag; total time=   0.5s\n",
      "[CV] END ..........logreg__penalty=none, logreg__solver=saga; total time=   0.5s\n",
      "[CV] END ..........logreg__penalty=none, logreg__solver=saga; total time=   0.5s\n",
      "[CV] END logreg__C=0.0001663160549866848, logreg__l1_ratio=0.1111111111111111, logreg__penalty=elasticnet, logreg__solver=saga; total time=  16.9s\n",
      "[CV] END logreg__C=0.0001663160549866848, logreg__l1_ratio=0.1111111111111111, logreg__penalty=elasticnet, logreg__solver=saga; total time=  13.4s\n"
     ]
    },
    {
     "name": "stderr",
     "output_type": "stream",
     "text": [
      "/home/tonyxdsu/.local/lib/python3.12/site-packages/sklearn/linear_model/_sag.py:349: ConvergenceWarning: The max_iter was reached which means the coef_ did not converge\n",
      "  warnings.warn(\n"
     ]
    },
    {
     "name": "stdout",
     "output_type": "stream",
     "text": [
      "[CV] END logreg__C=8325.892531686308, logreg__l1_ratio=0.1111111111111111, logreg__penalty=elasticnet, logreg__solver=saga; total time=26.9min\n",
      "[CV] END logreg__C=0.3219533765077499, logreg__penalty=l2, logreg__solver=sag; total time= 2.2min\n"
     ]
    },
    {
     "name": "stderr",
     "output_type": "stream",
     "text": [
      "/home/tonyxdsu/.local/lib/python3.12/site-packages/sklearn/linear_model/_sag.py:349: ConvergenceWarning: The max_iter was reached which means the coef_ did not converge\n",
      "  warnings.warn(\n"
     ]
    },
    {
     "name": "stdout",
     "output_type": "stream",
     "text": [
      "[CV] END logreg__C=1.4016423754096454, logreg__l1_ratio=0.1111111111111111, logreg__penalty=elasticnet, logreg__solver=saga; total time=27.7min\n",
      "[CV] END logreg__C=0.042191147739634435, logreg__penalty=l2, logreg__solver=liblinear; total time=  40.5s\n",
      "[CV] END logreg__C=0.042191147739634435, logreg__penalty=l2, logreg__solver=liblinear; total time=  42.5s\n"
     ]
    },
    {
     "name": "stderr",
     "output_type": "stream",
     "text": [
      "/home/tonyxdsu/.local/lib/python3.12/site-packages/sklearn/linear_model/_sag.py:349: ConvergenceWarning: The max_iter was reached which means the coef_ did not converge\n",
      "  warnings.warn(\n"
     ]
    },
    {
     "name": "stdout",
     "output_type": "stream",
     "text": [
      "[CV] END logreg__C=1.4016423754096454, logreg__l1_ratio=0.1111111111111111, logreg__penalty=elasticnet, logreg__solver=saga; total time=27.5min\n",
      "[CV] END logreg__C=764.252638038451, logreg__penalty=l2, logreg__solver=lbfgs; total time=   9.5s\n",
      "[CV] END logreg__C=0.3219533765077499, logreg__penalty=l2, logreg__solver=sag; total time= 3.0min\n",
      "[CV] END ...........logreg__penalty=none, logreg__solver=sag; total time=   0.5s\n",
      "[CV] END ...........logreg__penalty=none, logreg__solver=sag; total time=   0.5s\n",
      "[CV] END logreg__C=764.252638038451, logreg__penalty=l2, logreg__solver=lbfgs; total time=  10.2s\n",
      "[CV] END logreg__C=0.026676209372255604, logreg__penalty=l2, logreg__solver=sag; total time=  45.2s\n",
      "[CV] END .........logreg__penalty=none, logreg__solver=lbfgs; total time=   0.5s\n",
      "[CV] END .........logreg__penalty=none, logreg__solver=lbfgs; total time=  -2.0s\n",
      "[CV] END logreg__C=0.026676209372255604, logreg__penalty=l2, logreg__solver=sag; total time= 1.2min\n"
     ]
    },
    {
     "name": "stderr",
     "output_type": "stream",
     "text": [
      "/home/tonyxdsu/.local/lib/python3.12/site-packages/sklearn/linear_model/_sag.py:349: ConvergenceWarning: The max_iter was reached which means the coef_ did not converge\n",
      "  warnings.warn(\n"
     ]
    },
    {
     "name": "stdout",
     "output_type": "stream",
     "text": [
      "[CV] END logreg__C=41.674718203826295, logreg__penalty=l1, logreg__solver=saga; total time=26.0min\n",
      "[CV] END .........logreg__penalty=none, logreg__solver=lbfgs; total time=   0.5s\n",
      "[CV] END .........logreg__penalty=none, logreg__solver=lbfgs; total time=   0.5s\n",
      "[CV] END logreg__C=0.0004817034091512157, logreg__l1_ratio=0.3333333333333333, logreg__penalty=elasticnet, logreg__solver=saga; total time=  15.7s\n",
      "[CV] END logreg__C=0.0004817034091512157, logreg__l1_ratio=0.3333333333333333, logreg__penalty=elasticnet, logreg__solver=saga; total time=  11.1s\n"
     ]
    },
    {
     "name": "stderr",
     "output_type": "stream",
     "text": [
      "/home/tonyxdsu/.local/lib/python3.12/site-packages/sklearn/linear_model/_sag.py:349: ConvergenceWarning: The max_iter was reached which means the coef_ did not converge\n",
      "  warnings.warn(\n"
     ]
    },
    {
     "name": "stdout",
     "output_type": "stream",
     "text": [
      "[CV] END logreg__C=41.674718203826295, logreg__penalty=l1, logreg__solver=saga; total time=27.5min\n"
     ]
    },
    {
     "name": "stderr",
     "output_type": "stream",
     "text": [
      "/home/tonyxdsu/.local/lib/python3.12/site-packages/sklearn/linear_model/_sag.py:349: ConvergenceWarning: The max_iter was reached which means the coef_ did not converge\n",
      "  warnings.warn(\n"
     ]
    },
    {
     "name": "stdout",
     "output_type": "stream",
     "text": [
      "[CV] END logreg__C=1.0283249130221837, logreg__l1_ratio=0.3333333333333333, logreg__penalty=elasticnet, logreg__solver=saga; total time=27.1min\n",
      "[CV] END .........logreg__penalty=none, logreg__solver=lbfgs; total time=   0.4s\n",
      "[CV] END .........logreg__penalty=none, logreg__solver=lbfgs; total time=   0.5s\n",
      "[CV] END logreg__C=2.1138831301559056, logreg__penalty=l2, logreg__solver=sag; total time= 4.9min\n"
     ]
    },
    {
     "name": "stderr",
     "output_type": "stream",
     "text": [
      "/home/tonyxdsu/.local/lib/python3.12/site-packages/sklearn/linear_model/_sag.py:349: ConvergenceWarning: The max_iter was reached which means the coef_ did not converge\n",
      "  warnings.warn(\n"
     ]
    },
    {
     "name": "stdout",
     "output_type": "stream",
     "text": [
      "[CV] END logreg__C=1.0283249130221837, logreg__l1_ratio=0.3333333333333333, logreg__penalty=elasticnet, logreg__solver=saga; total time=26.9min\n",
      "[CV] END logreg__C=1.3502145585369614, logreg__penalty=l2, logreg__solver=liblinear; total time= 1.8min\n",
      "[CV] END logreg__C=1.3502145585369614, logreg__penalty=l2, logreg__solver=liblinear; total time= 1.7min\n",
      "[CV] END ...........logreg__penalty=none, logreg__solver=sag; total time=   0.5s\n",
      "[CV] END ...........logreg__penalty=none, logreg__solver=sag; total time=   0.5s\n",
      "[CV] END logreg__C=0.010159778010164064, logreg__l1_ratio=1.0, logreg__penalty=elasticnet, logreg__solver=saga; total time=  43.7s\n"
     ]
    },
    {
     "name": "stderr",
     "output_type": "stream",
     "text": [
      "/home/tonyxdsu/.local/lib/python3.12/site-packages/sklearn/linear_model/_sag.py:349: ConvergenceWarning: The max_iter was reached which means the coef_ did not converge\n",
      "  warnings.warn(\n"
     ]
    },
    {
     "name": "stdout",
     "output_type": "stream",
     "text": [
      "[CV] END logreg__C=2.1138831301559056, logreg__penalty=l2, logreg__solver=sag; total time= 5.8min\n",
      "[CV] END logreg__C=0.00044359202830619157, logreg__penalty=l1, logreg__solver=liblinear; total time=   4.7s\n",
      "[CV] END logreg__C=0.00044359202830619157, logreg__penalty=l1, logreg__solver=liblinear; total time=   4.8s\n",
      "[CV] END logreg__C=0.010159778010164064, logreg__l1_ratio=1.0, logreg__penalty=elasticnet, logreg__solver=saga; total time=  40.7s\n"
     ]
    },
    {
     "name": "stderr",
     "output_type": "stream",
     "text": [
      "/home/tonyxdsu/.local/lib/python3.12/site-packages/sklearn/linear_model/_sag.py:349: ConvergenceWarning: The max_iter was reached which means the coef_ did not converge\n",
      "  warnings.warn(\n"
     ]
    },
    {
     "name": "stdout",
     "output_type": "stream",
     "text": [
      "[CV] END logreg__C=7156.93555302322, logreg__l1_ratio=0.5555555555555556, logreg__penalty=elasticnet, logreg__solver=saga; total time=25.2min\n"
     ]
    },
    {
     "name": "stderr",
     "output_type": "stream",
     "text": [
      "/home/tonyxdsu/.local/lib/python3.12/site-packages/sklearn/linear_model/_sag.py:349: ConvergenceWarning: The max_iter was reached which means the coef_ did not converge\n",
      "  warnings.warn(\n"
     ]
    },
    {
     "name": "stdout",
     "output_type": "stream",
     "text": [
      "[CV] END logreg__C=7156.93555302322, logreg__l1_ratio=0.5555555555555556, logreg__penalty=elasticnet, logreg__solver=saga; total time=26.9min\n"
     ]
    },
    {
     "name": "stderr",
     "output_type": "stream",
     "text": [
      "/home/tonyxdsu/.local/lib/python3.12/site-packages/sklearn/linear_model/_sag.py:349: ConvergenceWarning: The max_iter was reached which means the coef_ did not converge\n",
      "  warnings.warn(\n"
     ]
    },
    {
     "name": "stdout",
     "output_type": "stream",
     "text": [
      "[CV] END logreg__C=419.7126223606438, logreg__penalty=l1, logreg__solver=saga; total time=26.9min\n"
     ]
    },
    {
     "name": "stderr",
     "output_type": "stream",
     "text": [
      "/home/tonyxdsu/.local/lib/python3.12/site-packages/sklearn/linear_model/_sag.py:349: ConvergenceWarning: The max_iter was reached which means the coef_ did not converge\n",
      "  warnings.warn(\n"
     ]
    },
    {
     "name": "stdout",
     "output_type": "stream",
     "text": [
      "[CV] END logreg__C=419.7126223606438, logreg__penalty=l1, logreg__solver=saga; total time=26.8min\n",
      "[CV] END logreg__C=0.008285121339696116, logreg__penalty=l2, logreg__solver=liblinear; total time=  45.5s\n",
      "[CV] END .........logreg__penalty=none, logreg__solver=lbfgs; total time=   0.6s\n",
      "[CV] END .........logreg__penalty=none, logreg__solver=lbfgs; total time=   0.5s\n",
      "[CV] END .........logreg__penalty=none, logreg__solver=lbfgs; total time=   0.6s\n",
      "[CV] END .........logreg__penalty=none, logreg__solver=lbfgs; total time=   0.6s\n",
      "[CV] END logreg__C=0.008285121339696116, logreg__penalty=l2, logreg__solver=liblinear; total time=  44.4s\n"
     ]
    },
    {
     "name": "stderr",
     "output_type": "stream",
     "text": [
      "/home/tonyxdsu/.local/lib/python3.12/site-packages/sklearn/linear_model/_sag.py:349: ConvergenceWarning: The max_iter was reached which means the coef_ did not converge\n",
      "  warnings.warn(\n"
     ]
    },
    {
     "name": "stdout",
     "output_type": "stream",
     "text": [
      "[CV] END logreg__C=2097.5379205679515, logreg__penalty=l2, logreg__solver=sag; total time= 5.7min\n",
      "[CV] END logreg__C=32.210629032733024, logreg__penalty=l1, logreg__solver=liblinear; total time=15.1min\n"
     ]
    },
    {
     "name": "stderr",
     "output_type": "stream",
     "text": [
      "/home/tonyxdsu/.local/lib/python3.12/site-packages/sklearn/linear_model/_sag.py:349: ConvergenceWarning: The max_iter was reached which means the coef_ did not converge\n",
      "  warnings.warn(\n"
     ]
    },
    {
     "name": "stdout",
     "output_type": "stream",
     "text": [
      "[CV] END logreg__C=2097.5379205679515, logreg__penalty=l2, logreg__solver=sag; total time= 6.3min\n",
      "[CV] END logreg__C=32.210629032733024, logreg__penalty=l1, logreg__solver=liblinear; total time=15.3min\n"
     ]
    },
    {
     "name": "stderr",
     "output_type": "stream",
     "text": [
      "/home/tonyxdsu/.local/lib/python3.12/site-packages/sklearn/linear_model/_sag.py:349: ConvergenceWarning: The max_iter was reached which means the coef_ did not converge\n",
      "  warnings.warn(\n"
     ]
    },
    {
     "name": "stdout",
     "output_type": "stream",
     "text": [
      "[CV] END logreg__C=69.23322025658152, logreg__penalty=l2, logreg__solver=sag; total time= 5.6min\n",
      "[CV] END ...........logreg__penalty=none, logreg__solver=sag; total time=   0.5s\n",
      "[CV] END ...........logreg__penalty=none, logreg__solver=sag; total time=   0.5s\n",
      "[CV] END ..........logreg__penalty=none, logreg__solver=saga; total time=   0.5s\n",
      "[CV] END ..........logreg__penalty=none, logreg__solver=saga; total time=   0.5s\n",
      "[CV] END logreg__C=0.000914781098393379, logreg__penalty=l1, logreg__solver=liblinear; total time=   5.7s\n",
      "[CV] END logreg__C=0.000914781098393379, logreg__penalty=l1, logreg__solver=liblinear; total time=   6.0s\n",
      "[CV] END logreg__C=0.0005424909861747942, logreg__penalty=l2, logreg__solver=sag; total time=   3.9s\n"
     ]
    },
    {
     "name": "stderr",
     "output_type": "stream",
     "text": [
      "/home/tonyxdsu/.local/lib/python3.12/site-packages/sklearn/linear_model/_sag.py:349: ConvergenceWarning: The max_iter was reached which means the coef_ did not converge\n",
      "  warnings.warn(\n"
     ]
    },
    {
     "name": "stdout",
     "output_type": "stream",
     "text": [
      "[CV] END logreg__C=69.23322025658152, logreg__penalty=l2, logreg__solver=sag; total time= 6.1min\n",
      "[CV] END logreg__C=0.0005424909861747942, logreg__penalty=l2, logreg__solver=sag; total time=   7.4s\n",
      "[CV] END logreg__C=12.769231210663824, logreg__penalty=l1, logreg__solver=liblinear; total time=10.7min\n",
      "[CV] END .........logreg__penalty=none, logreg__solver=lbfgs; total time=   0.6s\n",
      "[CV] END .........logreg__penalty=none, logreg__solver=lbfgs; total time=   0.5s\n",
      "[CV] END ...........logreg__penalty=none, logreg__solver=sag; total time=   0.5s\n",
      "[CV] END ...........logreg__penalty=none, logreg__solver=sag; total time=   0.7s\n"
     ]
    },
    {
     "name": "stderr",
     "output_type": "stream",
     "text": [
      "/home/tonyxdsu/.local/lib/python3.12/site-packages/sklearn/linear_model/_sag.py:349: ConvergenceWarning: The max_iter was reached which means the coef_ did not converge\n",
      "  warnings.warn(\n"
     ]
    },
    {
     "name": "stdout",
     "output_type": "stream",
     "text": [
      "[CV] END logreg__C=229.8738439458888, logreg__l1_ratio=0.2222222222222222, logreg__penalty=elasticnet, logreg__solver=saga; total time=24.7min\n"
     ]
    },
    {
     "name": "stderr",
     "output_type": "stream",
     "text": [
      "/home/tonyxdsu/.local/lib/python3.12/site-packages/sklearn/linear_model/_sag.py:349: ConvergenceWarning: The max_iter was reached which means the coef_ did not converge\n",
      "  warnings.warn(\n"
     ]
    },
    {
     "name": "stdout",
     "output_type": "stream",
     "text": [
      "[CV] END logreg__C=229.8738439458888, logreg__l1_ratio=0.2222222222222222, logreg__penalty=elasticnet, logreg__solver=saga; total time=25.4min\n",
      "[CV] END .........logreg__penalty=none, logreg__solver=lbfgs; total time=  -2.0s\n",
      "[CV] END .........logreg__penalty=none, logreg__solver=lbfgs; total time=   0.5s\n",
      "[CV] END logreg__C=0.030996058731863674, logreg__penalty=l1, logreg__solver=saga; total time= 2.0min\n",
      "[CV] END logreg__C=0.030996058731863674, logreg__penalty=l1, logreg__solver=saga; total time= 2.0min\n",
      "[CV] END logreg__C=8.448911955159696, logreg__penalty=l2, logreg__solver=lbfgs; total time=   8.2s\n",
      "[CV] END logreg__C=8.448911955159696, logreg__penalty=l2, logreg__solver=lbfgs; total time=   8.8s\n",
      "[CV] END ...........logreg__penalty=none, logreg__solver=sag; total time=   0.5s\n",
      "[CV] END ...........logreg__penalty=none, logreg__solver=sag; total time=   0.5s\n",
      "[CV] END ..........logreg__penalty=none, logreg__solver=saga; total time=   0.5s\n",
      "[CV] END ..........logreg__penalty=none, logreg__solver=saga; total time=   0.5s\n",
      "[CV] END logreg__C=12.769231210663824, logreg__penalty=l1, logreg__solver=liblinear; total time=12.9min\n",
      "[CV] END logreg__C=0.8568938007937769, logreg__penalty=l2, logreg__solver=sag; total time= 3.5min\n",
      "[CV] END .........logreg__penalty=none, logreg__solver=lbfgs; total time=   0.5s\n",
      "[CV] END .........logreg__penalty=none, logreg__solver=lbfgs; total time=   0.5s\n",
      "[CV] END .........logreg__penalty=none, logreg__solver=lbfgs; total time=   0.5s\n",
      "[CV] END .........logreg__penalty=none, logreg__solver=lbfgs; total time=   0.6s\n",
      "[CV] END logreg__C=0.295674038974633, logreg__penalty=l2, logreg__solver=sag; total time= 2.4min\n",
      "[CV] END logreg__C=0.0020112933452120793, logreg__penalty=l1, logreg__solver=saga; total time=  14.0s\n",
      "[CV] END ..........logreg__penalty=none, logreg__solver=saga; total time=   0.5s\n",
      "[CV] END ..........logreg__penalty=none, logreg__solver=saga; total time=   0.5s\n",
      "[CV] END logreg__C=0.0020112933452120793, logreg__penalty=l1, logreg__solver=saga; total time=  10.5s\n",
      "[CV] END logreg__C=0.295674038974633, logreg__penalty=l2, logreg__solver=sag; total time= 2.8min\n",
      "[CV] END logreg__C=10.15966354378399, logreg__penalty=l2, logreg__solver=liblinear; total time= 3.1min\n",
      "[CV] END logreg__C=0.8568938007937769, logreg__penalty=l2, logreg__solver=sag; total time= 4.1min\n",
      "[CV] END logreg__C=10.15966354378399, logreg__penalty=l2, logreg__solver=liblinear; total time= 2.9min\n"
     ]
    },
    {
     "name": "stderr",
     "output_type": "stream",
     "text": [
      "/home/tonyxdsu/.local/lib/python3.12/site-packages/sklearn/linear_model/_sag.py:349: ConvergenceWarning: The max_iter was reached which means the coef_ did not converge\n",
      "  warnings.warn(\n"
     ]
    },
    {
     "name": "stdout",
     "output_type": "stream",
     "text": [
      "[CV] END logreg__C=18.067190675932803, logreg__l1_ratio=0.4444444444444444, logreg__penalty=elasticnet, logreg__solver=saga; total time=24.3min\n"
     ]
    },
    {
     "name": "stderr",
     "output_type": "stream",
     "text": [
      "/home/tonyxdsu/.local/lib/python3.12/site-packages/sklearn/linear_model/_sag.py:349: ConvergenceWarning: The max_iter was reached which means the coef_ did not converge\n",
      "  warnings.warn(\n"
     ]
    },
    {
     "name": "stdout",
     "output_type": "stream",
     "text": [
      "[CV] END logreg__C=18.067190675932803, logreg__l1_ratio=0.4444444444444444, logreg__penalty=elasticnet, logreg__solver=saga; total time=24.1min\n"
     ]
    },
    {
     "name": "stderr",
     "output_type": "stream",
     "text": [
      "/home/tonyxdsu/.local/lib/python3.12/site-packages/sklearn/model_selection/_validation.py:540: FitFailedWarning: \n",
      "128 fits failed out of a total of 400.\n",
      "The score on these train-test partitions for these parameters will be set to nan.\n",
      "If these failures are not expected, you can try to debug them by setting error_score='raise'.\n",
      "\n",
      "Below are more details about the failures:\n",
      "--------------------------------------------------------------------------------\n",
      "68 fits failed with the following error:\n",
      "Traceback (most recent call last):\n",
      "  File \"/home/tonyxdsu/.local/lib/python3.12/site-packages/sklearn/model_selection/_validation.py\", line 888, in _fit_and_score\n",
      "    estimator.fit(X_train, y_train, **fit_params)\n",
      "  File \"/home/tonyxdsu/.local/lib/python3.12/site-packages/sklearn/base.py\", line 1473, in wrapper\n",
      "    return fit_method(estimator, *args, **kwargs)\n",
      "           ^^^^^^^^^^^^^^^^^^^^^^^^^^^^^^^^^^^^^^\n",
      "  File \"/home/tonyxdsu/.local/lib/python3.12/site-packages/sklearn/pipeline.py\", line 473, in fit\n",
      "    self._final_estimator.fit(Xt, y, **last_step_params[\"fit\"])\n",
      "  File \"/home/tonyxdsu/.local/lib/python3.12/site-packages/sklearn/base.py\", line 1466, in wrapper\n",
      "    estimator._validate_params()\n",
      "  File \"/home/tonyxdsu/.local/lib/python3.12/site-packages/sklearn/base.py\", line 666, in _validate_params\n",
      "    validate_parameter_constraints(\n",
      "  File \"/home/tonyxdsu/.local/lib/python3.12/site-packages/sklearn/utils/_param_validation.py\", line 95, in validate_parameter_constraints\n",
      "    raise InvalidParameterError(\n",
      "sklearn.utils._param_validation.InvalidParameterError: The 'penalty' parameter of LogisticRegression must be a str among {'l1', 'l2', 'elasticnet'} or None. Got 'none' instead.\n",
      "\n",
      "--------------------------------------------------------------------------------\n",
      "10 fits failed with the following error:\n",
      "Traceback (most recent call last):\n",
      "  File \"/home/tonyxdsu/.local/lib/python3.12/site-packages/sklearn/model_selection/_validation.py\", line 888, in _fit_and_score\n",
      "    estimator.fit(X_train, y_train, **fit_params)\n",
      "  File \"/home/tonyxdsu/.local/lib/python3.12/site-packages/sklearn/base.py\", line 1473, in wrapper\n",
      "    return fit_method(estimator, *args, **kwargs)\n",
      "           ^^^^^^^^^^^^^^^^^^^^^^^^^^^^^^^^^^^^^^\n",
      "  File \"/home/tonyxdsu/.local/lib/python3.12/site-packages/sklearn/pipeline.py\", line 473, in fit\n",
      "    self._final_estimator.fit(Xt, y, **last_step_params[\"fit\"])\n",
      "  File \"/home/tonyxdsu/.local/lib/python3.12/site-packages/sklearn/base.py\", line 1466, in wrapper\n",
      "    estimator._validate_params()\n",
      "  File \"/home/tonyxdsu/.local/lib/python3.12/site-packages/sklearn/base.py\", line 666, in _validate_params\n",
      "    validate_parameter_constraints(\n",
      "  File \"/home/tonyxdsu/.local/lib/python3.12/site-packages/sklearn/utils/_param_validation.py\", line 95, in validate_parameter_constraints\n",
      "    raise InvalidParameterError(\n",
      "sklearn.utils._param_validation.InvalidParameterError: The 'penalty' parameter of LogisticRegression must be a str among {'l2', 'elasticnet', 'l1'} or None. Got 'none' instead.\n",
      "\n",
      "--------------------------------------------------------------------------------\n",
      "42 fits failed with the following error:\n",
      "Traceback (most recent call last):\n",
      "  File \"/home/tonyxdsu/.local/lib/python3.12/site-packages/sklearn/model_selection/_validation.py\", line 888, in _fit_and_score\n",
      "    estimator.fit(X_train, y_train, **fit_params)\n",
      "  File \"/home/tonyxdsu/.local/lib/python3.12/site-packages/sklearn/base.py\", line 1473, in wrapper\n",
      "    return fit_method(estimator, *args, **kwargs)\n",
      "           ^^^^^^^^^^^^^^^^^^^^^^^^^^^^^^^^^^^^^^\n",
      "  File \"/home/tonyxdsu/.local/lib/python3.12/site-packages/sklearn/pipeline.py\", line 473, in fit\n",
      "    self._final_estimator.fit(Xt, y, **last_step_params[\"fit\"])\n",
      "  File \"/home/tonyxdsu/.local/lib/python3.12/site-packages/sklearn/base.py\", line 1466, in wrapper\n",
      "    estimator._validate_params()\n",
      "  File \"/home/tonyxdsu/.local/lib/python3.12/site-packages/sklearn/base.py\", line 666, in _validate_params\n",
      "    validate_parameter_constraints(\n",
      "  File \"/home/tonyxdsu/.local/lib/python3.12/site-packages/sklearn/utils/_param_validation.py\", line 95, in validate_parameter_constraints\n",
      "    raise InvalidParameterError(\n",
      "sklearn.utils._param_validation.InvalidParameterError: The 'penalty' parameter of LogisticRegression must be a str among {'elasticnet', 'l1', 'l2'} or None. Got 'none' instead.\n",
      "\n",
      "--------------------------------------------------------------------------------\n",
      "8 fits failed with the following error:\n",
      "Traceback (most recent call last):\n",
      "  File \"/home/tonyxdsu/.local/lib/python3.12/site-packages/sklearn/model_selection/_validation.py\", line 888, in _fit_and_score\n",
      "    estimator.fit(X_train, y_train, **fit_params)\n",
      "  File \"/home/tonyxdsu/.local/lib/python3.12/site-packages/sklearn/base.py\", line 1473, in wrapper\n",
      "    return fit_method(estimator, *args, **kwargs)\n",
      "           ^^^^^^^^^^^^^^^^^^^^^^^^^^^^^^^^^^^^^^\n",
      "  File \"/home/tonyxdsu/.local/lib/python3.12/site-packages/sklearn/pipeline.py\", line 473, in fit\n",
      "    self._final_estimator.fit(Xt, y, **last_step_params[\"fit\"])\n",
      "  File \"/home/tonyxdsu/.local/lib/python3.12/site-packages/sklearn/base.py\", line 1466, in wrapper\n",
      "    estimator._validate_params()\n",
      "  File \"/home/tonyxdsu/.local/lib/python3.12/site-packages/sklearn/base.py\", line 666, in _validate_params\n",
      "    validate_parameter_constraints(\n",
      "  File \"/home/tonyxdsu/.local/lib/python3.12/site-packages/sklearn/utils/_param_validation.py\", line 95, in validate_parameter_constraints\n",
      "    raise InvalidParameterError(\n",
      "sklearn.utils._param_validation.InvalidParameterError: The 'penalty' parameter of LogisticRegression must be a str among {'elasticnet', 'l2', 'l1'} or None. Got 'none' instead.\n",
      "\n",
      "  warnings.warn(some_fits_failed_message, FitFailedWarning)\n",
      "/home/tonyxdsu/.local/lib/python3.12/site-packages/sklearn/model_selection/_search.py:1103: UserWarning: One or more of the test scores are non-finite: [0.92656 0.92866 0.89454 0.92856 0.91852     nan 0.93648 0.928   0.937\n",
      " 0.94252 0.94116     nan 0.93742 0.94604     nan 0.92638 0.94364     nan\n",
      "     nan 0.94758 0.93274 0.92696 0.9486      nan     nan 0.94312     nan\n",
      " 0.92642     nan 0.92454 0.92644 0.94896 0.947   0.94056     nan 0.94148\n",
      " 0.9123  0.7259  0.92658     nan 0.9301  0.92656 0.94492     nan 0.92792\n",
      " 0.56672 0.94698     nan 0.92958 0.9264  0.92866 0.93912 0.94538     nan\n",
      " 0.37012 0.94428     nan 0.93808 0.92666 0.75914 0.94308 0.92006 0.92654\n",
      "     nan 0.94238 0.9265  0.94564 0.94342 0.92704 0.9325  0.94904 0.94642\n",
      " 0.94584 0.9465  0.9375  0.9243  0.90902 0.93966 0.94118 0.94682 0.9269\n",
      "     nan     nan     nan     nan 0.94408 0.92654     nan 0.94206     nan\n",
      " 0.9446      nan 0.92856 0.92668     nan     nan 0.94774 0.92396     nan\n",
      " 0.93114 0.92432     nan     nan     nan 0.92206     nan 0.92656 0.9418\n",
      "     nan     nan     nan     nan 0.91482     nan 0.9468  0.92646     nan\n",
      " 0.9347      nan 0.91976 0.93858     nan 0.92694     nan 0.92744 0.9396\n",
      " 0.93952 0.94302 0.92502     nan 0.93258 0.92854     nan     nan 0.94146\n",
      " 0.92672     nan 0.94092 0.92642 0.94566 0.94436 0.92818 0.92666 0.945\n",
      " 0.92636 0.93262 0.92184 0.92684 0.94464 0.92056     nan     nan 0.9351\n",
      " 0.6899      nan     nan 0.92084 0.93896 0.9484  0.92642 0.92018     nan\n",
      " 0.94772     nan 0.92648     nan 0.91744 0.92942     nan 0.94326 0.92646\n",
      "     nan 0.93672 0.80352 0.92978 0.924   0.94656     nan     nan 0.93284\n",
      " 0.92708 0.92416     nan     nan 0.90124 0.94476 0.94398     nan     nan\n",
      " 0.93418     nan 0.93922 0.92522     nan     nan 0.93752     nan     nan\n",
      " 0.91526     nan]\n",
      "  warnings.warn(\n"
     ]
    },
    {
     "name": "stdout",
     "output_type": "stream",
     "text": [
      "Best parameters found:  {'logreg__C': np.float64(0.005982221423148767), 'logreg__penalty': 'l2', 'logreg__solver': 'sag'}\n",
      "Best cross-validation score:  0.9490400000000001\n",
      "Test set accuracy:  0.9512\n"
     ]
    }
   ],
   "source": [
    "# Create a pipeline with data scaling and logistic regression\n",
    "pipeline = Pipeline([\n",
    "    ('scaler', StandardScaler()),\n",
    "    ('logreg', LogisticRegression(max_iter=1000))\n",
    "])\n",
    "\n",
    "# Define the parameter distributions with valid solver-penalty combinations\n",
    "param_distributions = [\n",
    "    {\n",
    "        'logreg__penalty': ['l1'],\n",
    "        'logreg__C': loguniform(1e-4, 1e4),\n",
    "        'logreg__solver': ['liblinear', 'saga'],\n",
    "    },\n",
    "    {\n",
    "        'logreg__penalty': ['l2'],\n",
    "        'logreg__C': loguniform(1e-4, 1e4),\n",
    "        'logreg__solver': ['lbfgs', 'liblinear', 'sag', 'saga'],\n",
    "    },\n",
    "    {\n",
    "        'logreg__penalty': ['elasticnet'],\n",
    "        'logreg__C': loguniform(1e-4, 1e4),\n",
    "        'logreg__solver': ['saga'],\n",
    "        'logreg__l1_ratio': np.linspace(0, 1, 10),\n",
    "    },\n",
    "    {\n",
    "        'logreg__penalty': ['none'],\n",
    "        'logreg__solver': ['lbfgs', 'sag', 'saga'],\n",
    "    }\n",
    "]\n",
    "\n",
    "# Initialize RandomizedSearchCV\n",
    "random_search = RandomizedSearchCV(\n",
    "    estimator=pipeline,\n",
    "    param_distributions=param_distributions,\n",
    "    n_iter=200,\n",
    "    cv=2,\n",
    "    scoring='accuracy',\n",
    "    random_state=42,\n",
    "    n_jobs=-1,\n",
    "    verbose=2\n",
    ")\n",
    "\n",
    "# Fit the model on the training data\n",
    "random_search.fit(X_train_CIFAR10, y_train_CIFAR10)\n",
    "\n",
    "# Output the best parameters and score\n",
    "print(\"Best parameters found: \", random_search.best_params_)\n",
    "print(\"Best cross-validation score: \", random_search.best_score_)\n",
    "\n",
    "# Evaluate the best model on the test set\n",
    "best_model = random_search.best_estimator_\n",
    "test_score = best_model.score(X_test_CIFAR10, y_test_CIFAR10)\n",
    "print(\"Test set accuracy: \", test_score)"
   ]
  }
 ],
 "metadata": {
  "kernelspec": {
   "display_name": "Python 3",
   "language": "python",
   "name": "python3"
  },
  "language_info": {
   "codemirror_mode": {
    "name": "ipython",
    "version": 3
   },
   "file_extension": ".py",
   "mimetype": "text/x-python",
   "name": "python",
   "nbconvert_exporter": "python",
   "pygments_lexer": "ipython3",
   "version": "3.12.3"
  }
 },
 "nbformat": 4,
 "nbformat_minor": 2
}
