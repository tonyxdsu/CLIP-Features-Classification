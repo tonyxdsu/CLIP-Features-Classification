{
 "cells": [
  {
   "cell_type": "code",
   "execution_count": null,
   "metadata": {},
   "outputs": [],
   "source": [
    "# Run the following cell if using Google Colab\n",
    "\n",
    "from google.colab import drive\n",
    "drive.mount('/content/drive')\n",
    "\n",
    "%cd /content/drive/MyDrive/cs340/project/models\n",
    "\n",
    "!pip install git+https://github.com/openai/CLIP.git\n",
    "!pip install cuml-cu12"
   ]
  },
  {
   "cell_type": "code",
   "execution_count": null,
   "metadata": {},
   "outputs": [],
   "source": [
    "import clip_feature_extractor\n",
    "import numpy as np\n",
    "\n",
    "from cuml.ensemble import RandomForestClassifier\n",
    "from cuml.metrics import accuracy_score\n",
    "import cupy as cp\n",
    "import cudf\n",
    "\n",
    "%load_ext autoreload\n",
    "%autoreload 2"
   ]
  },
  {
   "cell_type": "code",
   "execution_count": 3,
   "metadata": {},
   "outputs": [
    {
     "name": "stdout",
     "output_type": "stream",
     "text": [
      "Files already downloaded and verified\n",
      "Files already downloaded and verified\n",
      "Loaded features from disk.\n"
     ]
    }
   ],
   "source": [
    "X_train_CIFAR10, y_train_CIFAR10, X_test_CIFAR10, y_test_CIFAR10 = clip_feature_extractor.get_CIFAR10_features()\n"
   ]
  },
  {
   "cell_type": "code",
   "execution_count": null,
   "metadata": {},
   "outputs": [],
   "source": [
    "def train_random_forest(X_train, y_train, X_test, y_test, \n",
    "                             n_estimators=100, max_depth=16):\n",
    "    \"\"\"\n",
    "    Train a Random Forest classifier using RAPIDS cuML with GPU acceleration.\n",
    "\n",
    "    Parameters:\n",
    "    - X_train (np.ndarray or cp.ndarray): Training feature data.\n",
    "    - y_train (np.ndarray or cp.ndarray): Training labels.\n",
    "    - X_test (np.ndarray or cp.ndarray): Testing feature data.\n",
    "    - y_test (np.ndarray or cp.ndarray): Testing labels.\n",
    "    - n_estimators (int): Number of trees in the forest (default: 100).\n",
    "    - max_depth (int or None): Maximum depth of the trees (default: None).\n",
    "\n",
    "    Returns:\n",
    "    - accuracy (float): Classification accuracy on the test set (0 to 1).\n",
    "    - model (cuml.ensemble.RandomForestClassifier): Trained Random Forest model.\n",
    "    \"\"\"\n",
    "\n",
    "    def convert_and_cast(data, dtype):\n",
    "        \"\"\"\n",
    "        Convert data to CuPy array if not already and cast to the specified dtype.\n",
    "\n",
    "        Parameters:\n",
    "        - data (np.ndarray or cp.ndarray): Input data.\n",
    "        - dtype (data-type): Desired data type.\n",
    "\n",
    "        Returns:\n",
    "        - cp.ndarray: Converted and cast CuPy array.\n",
    "        \"\"\"\n",
    "        if not isinstance(data, cp.ndarray):\n",
    "            data = cp.asarray(data)\n",
    "        return data.astype(dtype)\n",
    "\n",
    "    # Combine conversion and type casting for all datasets\n",
    "    X_train = convert_and_cast(X_train, cp.float32)\n",
    "    X_test = convert_and_cast(X_test, cp.float32)\n",
    "    y_train = convert_and_cast(y_train, cp.int32)\n",
    "    y_test = convert_and_cast(y_test, cp.int32)\n",
    "\n",
    "    rf = RandomForestClassifier(n_estimators=n_estimators, max_depth=max_depth)\n",
    "    rf.fit(X_train, y_train)\n",
    "    y_pred = rf.predict(X_test)\n",
    "\n",
    "    accuracy = accuracy_score(y_test, y_pred)\n",
    "\n",
    "    return accuracy, rf"
   ]
  },
  {
   "cell_type": "code",
   "execution_count": null,
   "metadata": {},
   "outputs": [
    {
     "name": "stdout",
     "output_type": "stream",
     "text": [
      "Accuracy: 0.9330000281333923\n"
     ]
    }
   ],
   "source": [
    "# n_estimator = 1000, max_depth = 32 is at 2GB GPU memory usage\n",
    "accuracy, model = train_random_forest(X_train_CIFAR10, y_train_CIFAR10, X_test_CIFAR10, y_test_CIFAR10, n_estimators=1000, max_depth=32)\n",
    "print(f\"Accuracy: {accuracy}\")"
   ]
  },
  {
   "cell_type": "code",
   "execution_count": null,
   "metadata": {},
   "outputs": [
    {
     "ename": "",
     "evalue": "",
     "output_type": "error",
     "traceback": [
      "\u001b[1;31mThe Kernel crashed while executing code in the current cell or a previous cell. \n",
      "\u001b[1;31mPlease review the code in the cell(s) to identify a possible cause of the failure. \n",
      "\u001b[1;31mClick <a href='https://aka.ms/vscodeJupyterKernelCrash'>here</a> for more info. \n",
      "\u001b[1;31mView Jupyter <a href='command:jupyter.viewOutput'>log</a> for further details."
     ]
    }
   ],
   "source": [
    "# Need to test when we run out of memory\n",
    "# n_classes 100 crashes; CIFAR100 crashes\n",
    "\n",
    "# Generate sample data\n",
    "# Generate random data\n",
    "n_train = 50000\n",
    "n_test = 10000\n",
    "n_features = 500  # Number of features\n",
    "n_classes = 100   # Binary classification\n",
    "\n",
    "# Training data\n",
    "np.random.seed(42)  # For reproducibility\n",
    "X_train = np.random.randn(n_train, n_features)  \n",
    "y_train = np.random.randint(0, n_classes, n_train)\n",
    "\n",
    "# Test data\n",
    "X_test = np.random.randn(n_test, n_features)  # 100 test samples\n",
    "y_test = np.random.randint(0, n_classes, n_test)\n",
    "\n",
    "# Train model\n",
    "accuracy, model = train_random_forest(X_train, y_train, X_test, y_test)\n",
    "print(f\"Test accuracy: {accuracy:.4f}\")"
   ]
  },
  {
   "cell_type": "code",
   "execution_count": null,
   "metadata": {},
   "outputs": [],
   "source": []
  }
 ],
 "metadata": {
  "kernelspec": {
   "display_name": "Python 3",
   "language": "python",
   "name": "python3"
  },
  "language_info": {
   "codemirror_mode": {
    "name": "ipython",
    "version": 3
   },
   "file_extension": ".py",
   "mimetype": "text/x-python",
   "name": "python",
   "nbconvert_exporter": "python",
   "pygments_lexer": "ipython3",
   "version": "3.12.3"
  }
 },
 "nbformat": 4,
 "nbformat_minor": 2
}
