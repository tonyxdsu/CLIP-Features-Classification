{
 "cells": [
  {
   "cell_type": "code",
   "execution_count": null,
   "metadata": {},
   "outputs": [],
   "source": [
    "# Run the following cell if using Google Colab\n",
    "\n",
    "from google.colab import drive\n",
    "drive.mount('/content/drive')\n",
    "\n",
    "%cd /content/drive/MyDrive/cs340/project/models\n",
    "\n",
    "!pip install git+https://github.com/openai/CLIP.git\n",
    "!pip install cuml-cu12"
   ]
  },
  {
   "cell_type": "code",
   "execution_count": null,
   "metadata": {},
   "outputs": [],
   "source": [
    "import clip_feature_extractor\n",
    "import numpy as np\n",
    "\n",
    "from cuml.svm import SVC\n",
    "from cuml.metrics import accuracy_score\n",
    "import cupy as cp\n",
    "import cudf\n",
    "\n",
    "%load_ext autoreload\n",
    "%autoreload 2"
   ]
  },
  {
   "cell_type": "code",
   "execution_count": 2,
   "metadata": {},
   "outputs": [
    {
     "name": "stdout",
     "output_type": "stream",
     "text": [
      "Files already downloaded and verified\n",
      "Files already downloaded and verified\n",
      "Extracting features from CIFAR100 dataset\n",
      "Loaded previously extracted features from disk.\n"
     ]
    }
   ],
   "source": [
    "X_train_CIFAR100, y_train_CIFAR100, X_test_CIFAR100, y_test_CIFAR100 = clip_feature_extractor.get_CIFAR100_features()\n"
   ]
  },
  {
   "cell_type": "code",
   "execution_count": null,
   "metadata": {},
   "outputs": [],
   "source": [
    "def train_svm_cuml(X_train, y_train, X_test, y_test, C=1.0, kernel='rbf', degree=3, gamma='scale'):\n",
    "    \"\"\"\n",
    "    Train a Support Vector Machine classifier using RAPIDS cuML with GPU acceleration.\n",
    "\n",
    "    Parameters:\n",
    "    - X_train (np.ndarray or cp.ndarray): Training feature data.\n",
    "    - y_train (np.ndarray or cp.ndarray): Training labels.\n",
    "    - X_test (np.ndarray or cp.ndarray): Testing feature data.\n",
    "    - y_test (np.ndarray or cp.ndarray): Testing labels.\n",
    "    - C (float): Regularization parameter. The strength of the regularization is inversely proportional to C.\n",
    "    - kernel (str): Specifies the kernel type to be used in the algorithm.\n",
    "    - degree (int): Degree of the polynomial kernel function ('poly'). Ignored by all other kernels.\n",
    "    - gamma (str or float): Kernel coefficient for 'rbf', 'poly', and 'sigmoid'.\n",
    "\n",
    "    Returns:\n",
    "    - accuracy (float): Classification accuracy on the test set (0 to 1).\n",
    "    - accuracy_percentage (float): Classification accuracy in percentage (0 to 100).\n",
    "    - model (cuml.svm.SVC): Trained SVM model.\n",
    "    \"\"\"\n",
    "\n",
    "    def convert_and_cast(data, dtype):\n",
    "        \"\"\"\n",
    "        Convert data to CuPy array if not already and cast to the specified dtype.\n",
    "\n",
    "        Parameters:\n",
    "        - data (np.ndarray or cp.ndarray): Input data.\n",
    "        - dtype (data-type): Desired data type.\n",
    "\n",
    "        Returns:\n",
    "        - cp.ndarray: Converted and casted CuPy array.\n",
    "        \"\"\"\n",
    "        if not isinstance(data, cp.ndarray):\n",
    "            data = cp.asarray(data)\n",
    "        return data.astype(dtype)\n",
    "\n",
    "    # Combine conversion and type casting for all datasets\n",
    "    X_train = convert_and_cast(X_train, cp.float32)\n",
    "    X_test = convert_and_cast(X_test, cp.float32)\n",
    "    y_train = convert_and_cast(y_train, cp.int32)\n",
    "    y_test = convert_and_cast(y_test, cp.int32)\n",
    "\n",
    "    # Initialize the SVM classifier\n",
    "    svm = SVC(C=C, kernel=kernel, degree=degree, gamma=gamma)\n",
    "\n",
    "    # Fit the model on the training data\n",
    "    svm.fit(X_train, y_train)\n",
    "\n",
    "    # Predict on the test data\n",
    "    y_pred = svm.predict(X_test)\n",
    "\n",
    "    # Calculate accuracy\n",
    "    accuracy = accuracy_score(y_test, y_pred)\n",
    "    accuracy_percentage = accuracy * 100\n",
    "\n",
    "    return accuracy, accuracy_percentage, svm"
   ]
  },
  {
   "cell_type": "code",
   "execution_count": null,
   "metadata": {},
   "outputs": [],
   "source": [
    "accuracy, accuracy_percentage, model = train_svm_cuml(X_train_CIFAR100, y_train_CIFAR100, X_test_CIFAR100, y_test_CIFAR100)"
   ]
  }
 ],
 "metadata": {
  "kernelspec": {
   "display_name": "Python 3",
   "language": "python",
   "name": "python3"
  },
  "language_info": {
   "codemirror_mode": {
    "name": "ipython",
    "version": 3
   },
   "file_extension": ".py",
   "mimetype": "text/x-python",
   "name": "python",
   "nbconvert_exporter": "python",
   "pygments_lexer": "ipython3",
   "version": "3.12.3"
  }
 },
 "nbformat": 4,
 "nbformat_minor": 2
}
