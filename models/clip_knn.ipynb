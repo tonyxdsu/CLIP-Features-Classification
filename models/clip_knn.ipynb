{
 "cells": [
  {
   "cell_type": "code",
   "execution_count": null,
   "metadata": {
    "colab": {
     "base_uri": "https://localhost:8080/"
    },
    "id": "mDAbuwoTP188",
    "outputId": "a84b0209-c7ff-4027-9596-92baa4886a51",
    "vscode": {
     "languageId": "plaintext"
    }
   },
   "outputs": [],
   "source": [
    "# Run the following cell if using Google Colab\n",
    "\n",
    "from google.colab import drive\n",
    "drive.mount('/content/drive')\n",
    "\n",
    "%cd /content/drive/MyDrive/cs340/project/models\n",
    "\n",
    "!pip install git+https://github.com/openai/CLIP.git\n",
    "!pip install cuml-cu12"
   ]
  },
  {
   "cell_type": "code",
   "execution_count": 6,
   "metadata": {
    "colab": {
     "base_uri": "https://localhost:8080/"
    },
    "id": "E9ymchmMP189",
    "outputId": "2d69763c-94d8-4041-dd00-697c4f1961b7",
    "vscode": {
     "languageId": "plaintext"
    }
   },
   "outputs": [
    {
     "name": "stdout",
     "output_type": "stream",
     "text": [
      "The autoreload extension is already loaded. To reload it, use:\n",
      "  %reload_ext autoreload\n"
     ]
    }
   ],
   "source": [
    "import clip_feature_extractor\n",
    "import numpy as np\n",
    "\n",
    "from cuml.neighbors import KNeighborsClassifier\n",
    "from cuml.metrics import accuracy_score\n",
    "import cupy as cp\n",
    "import cudf\n",
    "\n",
    "%load_ext autoreload\n",
    "%autoreload 2"
   ]
  },
  {
   "cell_type": "code",
   "execution_count": 5,
   "metadata": {
    "colab": {
     "base_uri": "https://localhost:8080/"
    },
    "id": "oFNyDTmlP189",
    "outputId": "d0e088ca-4d04-4092-da30-027740980636",
    "vscode": {
     "languageId": "plaintext"
    }
   },
   "outputs": [
    {
     "name": "stdout",
     "output_type": "stream",
     "text": [
      "Downloading https://www.cs.toronto.edu/~kriz/cifar-100-python.tar.gz to /root/.cache/cifar-100-python.tar.gz\n"
     ]
    },
    {
     "name": "stderr",
     "output_type": "stream",
     "text": [
      "100%|██████████| 169M/169M [00:03<00:00, 48.6MB/s]\n"
     ]
    },
    {
     "name": "stdout",
     "output_type": "stream",
     "text": [
      "Extracting /root/.cache/cifar-100-python.tar.gz to /root/.cache\n",
      "Files already downloaded and verified\n",
      "Extracting features from CIFAR100 dataset\n",
      "Loaded previously extracted features from disk.\n"
     ]
    }
   ],
   "source": [
    "X_train_CIFAR100, y_train_CIFAR100, X_test_CIFAR100, y_test_CIFAR100 = clip_feature_extractor.get_CIFAR100_features()\n"
   ]
  },
  {
   "cell_type": "code",
   "execution_count": 41,
   "metadata": {
    "id": "ah9KOsN_X1in"
   },
   "outputs": [],
   "source": [
    "def train_knn(X_train, y_train, X_test, y_test, n_neighbors=5, algorithm='brute'):\n",
    "    \"\"\"\n",
    "    Train a K-Nearest Neighbors classifier using RAPIDS cuML with GPU acceleration.\n",
    "\n",
    "    Parameters:\n",
    "    - X_train (np.ndarray or cp.ndarray): Training feature data.\n",
    "    - y_train (np.ndarray or cp.ndarray): Training labels.\n",
    "    - X_test (np.ndarray or cp.ndarray): Testing feature data.\n",
    "    - y_test (np.ndarray or cp.ndarray): Testing labels.\n",
    "    - n_neighbors (int): Number of neighbors to use (default: 5).\n",
    "    - algorithm (str): Algorithm to compute the nearest neighbors (default: 'brute').\n",
    "\n",
    "    Returns:\n",
    "    - accuracy (float): Classification accuracy on the test set.\n",
    "    - model (cuml.neighbors.KNeighborsClassifier): Trained KNN model.\n",
    "    \"\"\"\n",
    "\n",
    "    def convert_and_cast(data, dtype):\n",
    "        \"\"\"\n",
    "        Convert data to CuPy array if not already and cast to the specified dtype.\n",
    "\n",
    "        Parameters:\n",
    "        - data (np.ndarray or cp.ndarray): Input data.\n",
    "        - dtype (data-type): Desired data type.\n",
    "\n",
    "        Returns:\n",
    "        - cp.ndarray: Converted and casted CuPy array.\n",
    "        \"\"\"\n",
    "        if not isinstance(data, cp.ndarray):\n",
    "            data = cp.asarray(data)\n",
    "        return data.astype(dtype)\n",
    "\n",
    "    # Combine conversion and type casting for all datasets\n",
    "    X_train = convert_and_cast(X_train, cp.float32)\n",
    "    X_test = convert_and_cast(X_test, cp.float32)\n",
    "    y_train = convert_and_cast(y_train, cp.int32)\n",
    "    y_test = convert_and_cast(y_test, cp.int32)\n",
    "\n",
    "    # print shape of data as a sanity check\n",
    "    print(\"X_train shape:\", X_train.shape)\n",
    "    print(\"y_train shape:\", y_train.shape)\n",
    "    print(\"X_test shape:\", X_test.shape)\n",
    "    print(\"y_test shape:\", y_test.shape)\n",
    "\n",
    "\n",
    "    knn = KNeighborsClassifier(n_neighbors=n_neighbors, algorithm=algorithm)\n",
    "    knn.fit(X_train, y_train)\n",
    "    y_pred = knn.predict(X_test)\n",
    "\n",
    "    accuracy = accuracy_score(y_test, y_pred)\n",
    "\n",
    "    return accuracy, knn\n"
   ]
  },
  {
   "cell_type": "code",
   "execution_count": 42,
   "metadata": {
    "colab": {
     "base_uri": "https://localhost:8080/"
    },
    "id": "ooTJ0xwDZYBV",
    "outputId": "521cd896-5d9c-484f-fdea-be374ba174c7"
   },
   "outputs": [
    {
     "name": "stdout",
     "output_type": "stream",
     "text": [
      "X_train shape: (50000, 512)\n",
      "y_train shape: (50000,)\n",
      "X_test shape: (10000, 512)\n",
      "y_test shape: (10000,)\n",
      "KNN Accuracy: 0.7153000235557556\n"
     ]
    }
   ],
   "source": [
    "accuracy, knn_model = train_knn(X_train_CIFAR100, y_train_CIFAR100, X_test_CIFAR100, y_test_CIFAR100, n_neighbors=25)\n",
    "print(f\"KNN Accuracy: {accuracy}\")"
   ]
  }
 ],
 "metadata": {
  "accelerator": "GPU",
  "colab": {
   "gpuType": "T4",
   "provenance": []
  },
  "kernelspec": {
   "display_name": "Python 3",
   "name": "python3"
  },
  "language_info": {
   "name": "python"
  }
 },
 "nbformat": 4,
 "nbformat_minor": 0
}
